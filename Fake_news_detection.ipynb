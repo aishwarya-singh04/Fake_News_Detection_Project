{
 "cells": [
  {
   "cell_type": "markdown",
   "metadata": {},
   "source": [
    "### Fake News Detection Problem"
   ]
  },
  {
   "cell_type": "code",
   "execution_count": 46,
   "metadata": {},
   "outputs": [
    {
     "output_type": "stream",
     "name": "stdout",
     "text": [
      "Requirement already satisfied: pandas in c:\\users\\dell\\appdata\\local\\programs\\python\\python39\\lib\\site-packages (1.2.5)\n",
      "Requirement already satisfied: pytz>=2017.3 in c:\\users\\dell\\appdata\\local\\programs\\python\\python39\\lib\\site-packages (from pandas) (2021.1)\n",
      "Requirement already satisfied: python-dateutil>=2.7.3 in c:\\users\\dell\\appdata\\roaming\\python\\python39\\site-packages (from pandas) (2.8.1)\n",
      "Requirement already satisfied: numpy>=1.16.5 in c:\\users\\dell\\appdata\\local\\programs\\python\\python39\\lib\\site-packages (from pandas) (1.21.0)\n",
      "Requirement already satisfied: six>=1.5 in c:\\users\\dell\\appdata\\roaming\\python\\python39\\site-packages (from python-dateutil>=2.7.3->pandas) (1.16.0)\n",
      "Note: you may need to restart the kernel to use updated packages.\n",
      "WARNING: You are using pip version 21.1.1; however, version 21.1.2 is available.\n",
      "You should consider upgrading via the 'C:\\Users\\Dell\\AppData\\Local\\Programs\\Python\\Python39\\python.exe -m pip install --upgrade pip' command.\n"
     ]
    }
   ],
   "source": [
    "pip install pandas"
   ]
  },
  {
   "cell_type": "code",
   "execution_count": 47,
   "metadata": {},
   "outputs": [
    {
     "output_type": "stream",
     "name": "stdout",
     "text": [
      "Requirement already satisfied: sklearn in c:\\users\\dell\\appdata\\local\\programs\\python\\python39\\lib\\site-packages (0.0)\n",
      "Requirement already satisfied: scikit-learn in c:\\users\\dell\\appdata\\local\\programs\\python\\python39\\lib\\site-packages (from sklearn) (0.24.2)\n",
      "Requirement already satisfied: joblib>=0.11 in c:\\users\\dell\\appdata\\local\\programs\\python\\python39\\lib\\site-packages (from scikit-learn->sklearn) (1.0.1)\n",
      "Requirement already satisfied: threadpoolctl>=2.0.0 in c:\\users\\dell\\appdata\\local\\programs\\python\\python39\\lib\\site-packages (from scikit-learn->sklearn) (2.1.0)\n",
      "Requirement already satisfied: numpy>=1.13.3 in c:\\users\\dell\\appdata\\local\\programs\\python\\python39\\lib\\site-packages (from scikit-learn->sklearn) (1.21.0)\n",
      "Requirement already satisfied: scipy>=0.19.1 in c:\\users\\dell\\appdata\\local\\programs\\python\\python39\\lib\\site-packages (from scikit-learn->sklearn) (1.7.0)\n",
      "Note: you may need to restart the kernel to use updated packages.\n",
      "WARNING: You are using pip version 21.1.1; however, version 21.1.2 is available.\n",
      "You should consider upgrading via the 'C:\\Users\\Dell\\AppData\\Local\\Programs\\Python\\Python39\\python.exe -m pip install --upgrade pip' command.\n"
     ]
    }
   ],
   "source": [
    "pip install sklearn"
   ]
  },
  {
   "cell_type": "code",
   "execution_count": 48,
   "metadata": {},
   "outputs": [
    {
     "output_type": "stream",
     "name": "stdout",
     "text": [
      "Requirement already satisfied: scikit-learn in c:\\users\\dell\\appdata\\local\\programs\\python\\python39\\lib\\site-packages (0.24.2)\n",
      "Requirement already satisfied: joblib>=0.11 in c:\\users\\dell\\appdata\\local\\programs\\python\\python39\\lib\\site-packages (from scikit-learn) (1.0.1)\n",
      "Requirement already satisfied: threadpoolctl>=2.0.0 in c:\\users\\dell\\appdata\\local\\programs\\python\\python39\\lib\\site-packages (from scikit-learn) (2.1.0)\n",
      "Requirement already satisfied: scipy>=0.19.1 in c:\\users\\dell\\appdata\\local\\programs\\python\\python39\\lib\\site-packages (from scikit-learn) (1.7.0)\n",
      "Requirement already satisfied: numpy>=1.13.3 in c:\\users\\dell\\appdata\\local\\programs\\python\\python39\\lib\\site-packages (from scikit-learn) (1.21.0)\n",
      "Note: you may need to restart the kernel to use updated packages.\n",
      "WARNING: You are using pip version 21.1.1; however, version 21.1.2 is available.\n",
      "You should consider upgrading via the 'C:\\Users\\Dell\\AppData\\Local\\Programs\\Python\\Python39\\python.exe -m pip install --upgrade pip' command.\n"
     ]
    }
   ],
   "source": [
    "pip install -U scikit-learn"
   ]
  },
  {
   "cell_type": "code",
   "execution_count": 7,
   "metadata": {},
   "outputs": [],
   "source": [
    "import pandas as pd\n",
    "import numpy as np\n",
    "from sklearn.model_selection import train_test_split\n",
    "from sklearn.metrics import classification_report\n",
    "import re\n",
    "import string"
   ]
  },
  {
   "cell_type": "code",
   "execution_count": 8,
   "metadata": {},
   "outputs": [
    {
     "output_type": "stream",
     "name": "stdout",
     "text": [
      "Requirement already satisfied: dill in c:\\users\\dell\\appdata\\local\\programs\\python\\python39\\lib\\site-packages (0.3.4)Note: you may need to restart the kernel to use updated packages.\n",
      "\n",
      "WARNING: You are using pip version 21.1.1; however, version 21.1.2 is available.\n",
      "You should consider upgrading via the 'C:\\Users\\Dell\\AppData\\Local\\Programs\\Python\\Python39\\python.exe -m pip install --upgrade pip' command.\n"
     ]
    }
   ],
   "source": [
    "pip install dill"
   ]
  },
  {
   "cell_type": "code",
   "execution_count": 9,
   "metadata": {},
   "outputs": [],
   "source": [
    "import dill\n",
    "dill.dump_session('notebook_env.db')"
   ]
  },
  {
   "cell_type": "code",
   "execution_count": 10,
   "metadata": {},
   "outputs": [],
   "source": [
    "df_fake = pd.read_csv(\"Fake.csv\")\n",
    "df_true = pd.read_csv(\"True.csv\")"
   ]
  },
  {
   "cell_type": "code",
   "execution_count": 11,
   "metadata": {},
   "outputs": [
    {
     "output_type": "execute_result",
     "data": {
      "text/plain": [
       "                                               title  \\\n",
       "0   Donald Trump Sends Out Embarrassing New Year’...   \n",
       "1   Drunk Bragging Trump Staffer Started Russian ...   \n",
       "2   Sheriff David Clarke Becomes An Internet Joke...   \n",
       "3   Trump Is So Obsessed He Even Has Obama’s Name...   \n",
       "4   Pope Francis Just Called Out Donald Trump Dur...   \n",
       "5   Racist Alabama Cops Brutalize Black Boy While...   \n",
       "6   Fresh Off The Golf Course, Trump Lashes Out A...   \n",
       "7   Trump Said Some INSANELY Racist Stuff Inside ...   \n",
       "8   Former CIA Director Slams Trump Over UN Bully...   \n",
       "9   WATCH: Brand-New Pro-Trump Ad Features So Muc...   \n",
       "\n",
       "                                                text subject  \\\n",
       "0  Donald Trump just couldn t wish all Americans ...    News   \n",
       "1  House Intelligence Committee Chairman Devin Nu...    News   \n",
       "2  On Friday, it was revealed that former Milwauk...    News   \n",
       "3  On Christmas day, Donald Trump announced that ...    News   \n",
       "4  Pope Francis used his annual Christmas Day mes...    News   \n",
       "5  The number of cases of cops brutalizing and ki...    News   \n",
       "6  Donald Trump spent a good portion of his day a...    News   \n",
       "7  In the wake of yet another court decision that...    News   \n",
       "8  Many people have raised the alarm regarding th...    News   \n",
       "9  Just when you might have thought we d get a br...    News   \n",
       "\n",
       "                date  \n",
       "0  December 31, 2017  \n",
       "1  December 31, 2017  \n",
       "2  December 30, 2017  \n",
       "3  December 29, 2017  \n",
       "4  December 25, 2017  \n",
       "5  December 25, 2017  \n",
       "6  December 23, 2017  \n",
       "7  December 23, 2017  \n",
       "8  December 22, 2017  \n",
       "9  December 21, 2017  "
      ],
      "text/html": "<div>\n<style scoped>\n    .dataframe tbody tr th:only-of-type {\n        vertical-align: middle;\n    }\n\n    .dataframe tbody tr th {\n        vertical-align: top;\n    }\n\n    .dataframe thead th {\n        text-align: right;\n    }\n</style>\n<table border=\"1\" class=\"dataframe\">\n  <thead>\n    <tr style=\"text-align: right;\">\n      <th></th>\n      <th>title</th>\n      <th>text</th>\n      <th>subject</th>\n      <th>date</th>\n    </tr>\n  </thead>\n  <tbody>\n    <tr>\n      <th>0</th>\n      <td>Donald Trump Sends Out Embarrassing New Year’...</td>\n      <td>Donald Trump just couldn t wish all Americans ...</td>\n      <td>News</td>\n      <td>December 31, 2017</td>\n    </tr>\n    <tr>\n      <th>1</th>\n      <td>Drunk Bragging Trump Staffer Started Russian ...</td>\n      <td>House Intelligence Committee Chairman Devin Nu...</td>\n      <td>News</td>\n      <td>December 31, 2017</td>\n    </tr>\n    <tr>\n      <th>2</th>\n      <td>Sheriff David Clarke Becomes An Internet Joke...</td>\n      <td>On Friday, it was revealed that former Milwauk...</td>\n      <td>News</td>\n      <td>December 30, 2017</td>\n    </tr>\n    <tr>\n      <th>3</th>\n      <td>Trump Is So Obsessed He Even Has Obama’s Name...</td>\n      <td>On Christmas day, Donald Trump announced that ...</td>\n      <td>News</td>\n      <td>December 29, 2017</td>\n    </tr>\n    <tr>\n      <th>4</th>\n      <td>Pope Francis Just Called Out Donald Trump Dur...</td>\n      <td>Pope Francis used his annual Christmas Day mes...</td>\n      <td>News</td>\n      <td>December 25, 2017</td>\n    </tr>\n    <tr>\n      <th>5</th>\n      <td>Racist Alabama Cops Brutalize Black Boy While...</td>\n      <td>The number of cases of cops brutalizing and ki...</td>\n      <td>News</td>\n      <td>December 25, 2017</td>\n    </tr>\n    <tr>\n      <th>6</th>\n      <td>Fresh Off The Golf Course, Trump Lashes Out A...</td>\n      <td>Donald Trump spent a good portion of his day a...</td>\n      <td>News</td>\n      <td>December 23, 2017</td>\n    </tr>\n    <tr>\n      <th>7</th>\n      <td>Trump Said Some INSANELY Racist Stuff Inside ...</td>\n      <td>In the wake of yet another court decision that...</td>\n      <td>News</td>\n      <td>December 23, 2017</td>\n    </tr>\n    <tr>\n      <th>8</th>\n      <td>Former CIA Director Slams Trump Over UN Bully...</td>\n      <td>Many people have raised the alarm regarding th...</td>\n      <td>News</td>\n      <td>December 22, 2017</td>\n    </tr>\n    <tr>\n      <th>9</th>\n      <td>WATCH: Brand-New Pro-Trump Ad Features So Muc...</td>\n      <td>Just when you might have thought we d get a br...</td>\n      <td>News</td>\n      <td>December 21, 2017</td>\n    </tr>\n  </tbody>\n</table>\n</div>"
     },
     "metadata": {},
     "execution_count": 11
    }
   ],
   "source": [
    "df_fake.head(10)"
   ]
  },
  {
   "cell_type": "code",
   "execution_count": 11,
   "metadata": {},
   "outputs": [
    {
     "output_type": "execute_result",
     "data": {
      "text/plain": [
       "                                               title  \\\n",
       "0  As U.S. budget fight looms, Republicans flip t...   \n",
       "1  U.S. military to accept transgender recruits o...   \n",
       "2  Senior U.S. Republican senator: 'Let Mr. Muell...   \n",
       "3  FBI Russia probe helped by Australian diplomat...   \n",
       "4  Trump wants Postal Service to charge 'much mor...   \n",
       "5  White House, Congress prepare for talks on spe...   \n",
       "6  Trump says Russia probe will be fair, but time...   \n",
       "7  Factbox: Trump on Twitter (Dec 29) - Approval ...   \n",
       "8         Trump on Twitter (Dec 28) - Global Warming   \n",
       "9  Alabama official to certify Senator-elect Jone...   \n",
       "\n",
       "                                                text       subject  \\\n",
       "0  WASHINGTON (Reuters) - The head of a conservat...  politicsNews   \n",
       "1  WASHINGTON (Reuters) - Transgender people will...  politicsNews   \n",
       "2  WASHINGTON (Reuters) - The special counsel inv...  politicsNews   \n",
       "3  WASHINGTON (Reuters) - Trump campaign adviser ...  politicsNews   \n",
       "4  SEATTLE/WASHINGTON (Reuters) - President Donal...  politicsNews   \n",
       "5  WEST PALM BEACH, Fla./WASHINGTON (Reuters) - T...  politicsNews   \n",
       "6  WEST PALM BEACH, Fla (Reuters) - President Don...  politicsNews   \n",
       "7  The following statements were posted to the ve...  politicsNews   \n",
       "8  The following statements were posted to the ve...  politicsNews   \n",
       "9  WASHINGTON (Reuters) - Alabama Secretary of St...  politicsNews   \n",
       "\n",
       "                 date  \n",
       "0  December 31, 2017   \n",
       "1  December 29, 2017   \n",
       "2  December 31, 2017   \n",
       "3  December 30, 2017   \n",
       "4  December 29, 2017   \n",
       "5  December 29, 2017   \n",
       "6  December 29, 2017   \n",
       "7  December 29, 2017   \n",
       "8  December 29, 2017   \n",
       "9  December 28, 2017   "
      ],
      "text/html": "<div>\n<style scoped>\n    .dataframe tbody tr th:only-of-type {\n        vertical-align: middle;\n    }\n\n    .dataframe tbody tr th {\n        vertical-align: top;\n    }\n\n    .dataframe thead th {\n        text-align: right;\n    }\n</style>\n<table border=\"1\" class=\"dataframe\">\n  <thead>\n    <tr style=\"text-align: right;\">\n      <th></th>\n      <th>title</th>\n      <th>text</th>\n      <th>subject</th>\n      <th>date</th>\n    </tr>\n  </thead>\n  <tbody>\n    <tr>\n      <th>0</th>\n      <td>As U.S. budget fight looms, Republicans flip t...</td>\n      <td>WASHINGTON (Reuters) - The head of a conservat...</td>\n      <td>politicsNews</td>\n      <td>December 31, 2017</td>\n    </tr>\n    <tr>\n      <th>1</th>\n      <td>U.S. military to accept transgender recruits o...</td>\n      <td>WASHINGTON (Reuters) - Transgender people will...</td>\n      <td>politicsNews</td>\n      <td>December 29, 2017</td>\n    </tr>\n    <tr>\n      <th>2</th>\n      <td>Senior U.S. Republican senator: 'Let Mr. Muell...</td>\n      <td>WASHINGTON (Reuters) - The special counsel inv...</td>\n      <td>politicsNews</td>\n      <td>December 31, 2017</td>\n    </tr>\n    <tr>\n      <th>3</th>\n      <td>FBI Russia probe helped by Australian diplomat...</td>\n      <td>WASHINGTON (Reuters) - Trump campaign adviser ...</td>\n      <td>politicsNews</td>\n      <td>December 30, 2017</td>\n    </tr>\n    <tr>\n      <th>4</th>\n      <td>Trump wants Postal Service to charge 'much mor...</td>\n      <td>SEATTLE/WASHINGTON (Reuters) - President Donal...</td>\n      <td>politicsNews</td>\n      <td>December 29, 2017</td>\n    </tr>\n    <tr>\n      <th>5</th>\n      <td>White House, Congress prepare for talks on spe...</td>\n      <td>WEST PALM BEACH, Fla./WASHINGTON (Reuters) - T...</td>\n      <td>politicsNews</td>\n      <td>December 29, 2017</td>\n    </tr>\n    <tr>\n      <th>6</th>\n      <td>Trump says Russia probe will be fair, but time...</td>\n      <td>WEST PALM BEACH, Fla (Reuters) - President Don...</td>\n      <td>politicsNews</td>\n      <td>December 29, 2017</td>\n    </tr>\n    <tr>\n      <th>7</th>\n      <td>Factbox: Trump on Twitter (Dec 29) - Approval ...</td>\n      <td>The following statements were posted to the ve...</td>\n      <td>politicsNews</td>\n      <td>December 29, 2017</td>\n    </tr>\n    <tr>\n      <th>8</th>\n      <td>Trump on Twitter (Dec 28) - Global Warming</td>\n      <td>The following statements were posted to the ve...</td>\n      <td>politicsNews</td>\n      <td>December 29, 2017</td>\n    </tr>\n    <tr>\n      <th>9</th>\n      <td>Alabama official to certify Senator-elect Jone...</td>\n      <td>WASHINGTON (Reuters) - Alabama Secretary of St...</td>\n      <td>politicsNews</td>\n      <td>December 28, 2017</td>\n    </tr>\n  </tbody>\n</table>\n</div>"
     },
     "metadata": {},
     "execution_count": 11
    }
   ],
   "source": [
    "df_true.head(10)"
   ]
  },
  {
   "cell_type": "code",
   "execution_count": 12,
   "metadata": {},
   "outputs": [],
   "source": [
    "df_fake[\"class\"]=0\n",
    "df_true[\"class\"]=1"
   ]
  },
  {
   "cell_type": "code",
   "execution_count": 13,
   "metadata": {},
   "outputs": [
    {
     "output_type": "execute_result",
     "data": {
      "text/plain": [
       "((23481, 5), (21417, 5))"
      ]
     },
     "metadata": {},
     "execution_count": 13
    }
   ],
   "source": [
    "df_fake.shape, df_true.shape"
   ]
  },
  {
   "cell_type": "code",
   "execution_count": 14,
   "metadata": {},
   "outputs": [],
   "source": [
    "df_fake_manual_testing = df_fake.tail(10)\n",
    "for i in range(23415, 23405, -1):\n",
    "    df_fake.drop([i], axis=0, inplace= True)\n",
    "df_true_manual_testing = df_true.tail(10)\n",
    "for i in range(21406, 21396, -1):\n",
    "    df_true.drop([i], axis=0, inplace= True)"
   ]
  },
  {
   "cell_type": "code",
   "execution_count": 15,
   "metadata": {},
   "outputs": [],
   "source": [
    "df_manual_testing = pd.concat([df_fake_manual_testing, df_true_manual_testing], axis=0)\n",
    "df_manual_testing.to_csv(\"manual_testing.csv\")"
   ]
  },
  {
   "cell_type": "code",
   "execution_count": 16,
   "metadata": {},
   "outputs": [
    {
     "output_type": "execute_result",
     "data": {
      "text/plain": [
       "                                               title  \\\n",
       "0   Donald Trump Sends Out Embarrassing New Year’...   \n",
       "1   Drunk Bragging Trump Staffer Started Russian ...   \n",
       "2   Sheriff David Clarke Becomes An Internet Joke...   \n",
       "3   Trump Is So Obsessed He Even Has Obama’s Name...   \n",
       "4   Pope Francis Just Called Out Donald Trump Dur...   \n",
       "5   Racist Alabama Cops Brutalize Black Boy While...   \n",
       "6   Fresh Off The Golf Course, Trump Lashes Out A...   \n",
       "7   Trump Said Some INSANELY Racist Stuff Inside ...   \n",
       "8   Former CIA Director Slams Trump Over UN Bully...   \n",
       "9   WATCH: Brand-New Pro-Trump Ad Features So Muc...   \n",
       "\n",
       "                                                text subject  \\\n",
       "0  Donald Trump just couldn t wish all Americans ...    News   \n",
       "1  House Intelligence Committee Chairman Devin Nu...    News   \n",
       "2  On Friday, it was revealed that former Milwauk...    News   \n",
       "3  On Christmas day, Donald Trump announced that ...    News   \n",
       "4  Pope Francis used his annual Christmas Day mes...    News   \n",
       "5  The number of cases of cops brutalizing and ki...    News   \n",
       "6  Donald Trump spent a good portion of his day a...    News   \n",
       "7  In the wake of yet another court decision that...    News   \n",
       "8  Many people have raised the alarm regarding th...    News   \n",
       "9  Just when you might have thought we d get a br...    News   \n",
       "\n",
       "                date  class  \n",
       "0  December 31, 2017      0  \n",
       "1  December 31, 2017      0  \n",
       "2  December 30, 2017      0  \n",
       "3  December 29, 2017      0  \n",
       "4  December 25, 2017      0  \n",
       "5  December 25, 2017      0  \n",
       "6  December 23, 2017      0  \n",
       "7  December 23, 2017      0  \n",
       "8  December 22, 2017      0  \n",
       "9  December 21, 2017      0  "
      ],
      "text/html": "<div>\n<style scoped>\n    .dataframe tbody tr th:only-of-type {\n        vertical-align: middle;\n    }\n\n    .dataframe tbody tr th {\n        vertical-align: top;\n    }\n\n    .dataframe thead th {\n        text-align: right;\n    }\n</style>\n<table border=\"1\" class=\"dataframe\">\n  <thead>\n    <tr style=\"text-align: right;\">\n      <th></th>\n      <th>title</th>\n      <th>text</th>\n      <th>subject</th>\n      <th>date</th>\n      <th>class</th>\n    </tr>\n  </thead>\n  <tbody>\n    <tr>\n      <th>0</th>\n      <td>Donald Trump Sends Out Embarrassing New Year’...</td>\n      <td>Donald Trump just couldn t wish all Americans ...</td>\n      <td>News</td>\n      <td>December 31, 2017</td>\n      <td>0</td>\n    </tr>\n    <tr>\n      <th>1</th>\n      <td>Drunk Bragging Trump Staffer Started Russian ...</td>\n      <td>House Intelligence Committee Chairman Devin Nu...</td>\n      <td>News</td>\n      <td>December 31, 2017</td>\n      <td>0</td>\n    </tr>\n    <tr>\n      <th>2</th>\n      <td>Sheriff David Clarke Becomes An Internet Joke...</td>\n      <td>On Friday, it was revealed that former Milwauk...</td>\n      <td>News</td>\n      <td>December 30, 2017</td>\n      <td>0</td>\n    </tr>\n    <tr>\n      <th>3</th>\n      <td>Trump Is So Obsessed He Even Has Obama’s Name...</td>\n      <td>On Christmas day, Donald Trump announced that ...</td>\n      <td>News</td>\n      <td>December 29, 2017</td>\n      <td>0</td>\n    </tr>\n    <tr>\n      <th>4</th>\n      <td>Pope Francis Just Called Out Donald Trump Dur...</td>\n      <td>Pope Francis used his annual Christmas Day mes...</td>\n      <td>News</td>\n      <td>December 25, 2017</td>\n      <td>0</td>\n    </tr>\n    <tr>\n      <th>5</th>\n      <td>Racist Alabama Cops Brutalize Black Boy While...</td>\n      <td>The number of cases of cops brutalizing and ki...</td>\n      <td>News</td>\n      <td>December 25, 2017</td>\n      <td>0</td>\n    </tr>\n    <tr>\n      <th>6</th>\n      <td>Fresh Off The Golf Course, Trump Lashes Out A...</td>\n      <td>Donald Trump spent a good portion of his day a...</td>\n      <td>News</td>\n      <td>December 23, 2017</td>\n      <td>0</td>\n    </tr>\n    <tr>\n      <th>7</th>\n      <td>Trump Said Some INSANELY Racist Stuff Inside ...</td>\n      <td>In the wake of yet another court decision that...</td>\n      <td>News</td>\n      <td>December 23, 2017</td>\n      <td>0</td>\n    </tr>\n    <tr>\n      <th>8</th>\n      <td>Former CIA Director Slams Trump Over UN Bully...</td>\n      <td>Many people have raised the alarm regarding th...</td>\n      <td>News</td>\n      <td>December 22, 2017</td>\n      <td>0</td>\n    </tr>\n    <tr>\n      <th>9</th>\n      <td>WATCH: Brand-New Pro-Trump Ad Features So Muc...</td>\n      <td>Just when you might have thought we d get a br...</td>\n      <td>News</td>\n      <td>December 21, 2017</td>\n      <td>0</td>\n    </tr>\n  </tbody>\n</table>\n</div>"
     },
     "metadata": {},
     "execution_count": 16
    }
   ],
   "source": [
    "df_merge = pd.concat([df_fake, df_true], axis = 0)\n",
    "df_merge.head(10)"
   ]
  },
  {
   "cell_type": "code",
   "execution_count": 17,
   "metadata": {},
   "outputs": [
    {
     "output_type": "execute_result",
     "data": {
      "text/plain": [
       "                                                text  class\n",
       "0  Donald Trump just couldn t wish all Americans ...      0\n",
       "1  House Intelligence Committee Chairman Devin Nu...      0\n",
       "2  On Friday, it was revealed that former Milwauk...      0\n",
       "3  On Christmas day, Donald Trump announced that ...      0\n",
       "4  Pope Francis used his annual Christmas Day mes...      0\n",
       "5  The number of cases of cops brutalizing and ki...      0\n",
       "6  Donald Trump spent a good portion of his day a...      0\n",
       "7  In the wake of yet another court decision that...      0\n",
       "8  Many people have raised the alarm regarding th...      0\n",
       "9  Just when you might have thought we d get a br...      0"
      ],
      "text/html": "<div>\n<style scoped>\n    .dataframe tbody tr th:only-of-type {\n        vertical-align: middle;\n    }\n\n    .dataframe tbody tr th {\n        vertical-align: top;\n    }\n\n    .dataframe thead th {\n        text-align: right;\n    }\n</style>\n<table border=\"1\" class=\"dataframe\">\n  <thead>\n    <tr style=\"text-align: right;\">\n      <th></th>\n      <th>text</th>\n      <th>class</th>\n    </tr>\n  </thead>\n  <tbody>\n    <tr>\n      <th>0</th>\n      <td>Donald Trump just couldn t wish all Americans ...</td>\n      <td>0</td>\n    </tr>\n    <tr>\n      <th>1</th>\n      <td>House Intelligence Committee Chairman Devin Nu...</td>\n      <td>0</td>\n    </tr>\n    <tr>\n      <th>2</th>\n      <td>On Friday, it was revealed that former Milwauk...</td>\n      <td>0</td>\n    </tr>\n    <tr>\n      <th>3</th>\n      <td>On Christmas day, Donald Trump announced that ...</td>\n      <td>0</td>\n    </tr>\n    <tr>\n      <th>4</th>\n      <td>Pope Francis used his annual Christmas Day mes...</td>\n      <td>0</td>\n    </tr>\n    <tr>\n      <th>5</th>\n      <td>The number of cases of cops brutalizing and ki...</td>\n      <td>0</td>\n    </tr>\n    <tr>\n      <th>6</th>\n      <td>Donald Trump spent a good portion of his day a...</td>\n      <td>0</td>\n    </tr>\n    <tr>\n      <th>7</th>\n      <td>In the wake of yet another court decision that...</td>\n      <td>0</td>\n    </tr>\n    <tr>\n      <th>8</th>\n      <td>Many people have raised the alarm regarding th...</td>\n      <td>0</td>\n    </tr>\n    <tr>\n      <th>9</th>\n      <td>Just when you might have thought we d get a br...</td>\n      <td>0</td>\n    </tr>\n  </tbody>\n</table>\n</div>"
     },
     "metadata": {},
     "execution_count": 17
    }
   ],
   "source": [
    "df = df_merge.drop([\"title\", \"subject\", \"date\"], axis = 1)\n",
    "df.head(10)"
   ]
  },
  {
   "cell_type": "code",
   "execution_count": 18,
   "metadata": {},
   "outputs": [
    {
     "output_type": "execute_result",
     "data": {
      "text/plain": [
       "                                                    text  class\n",
       "12845  Is CNN contributor and Democratic Strategist B...      0\n",
       "19721  NBC reports:The FBI is reviewing a new batch o...      0\n",
       "17429  BERLIN (Reuters) - After a series of setbacks ...      1\n",
       "15518  Americans need to put American citizens first ...      0\n",
       "10514  Some day, when things calm down, I'll tell the...      0\n",
       "6837   When I was a kid, I watched a number of fights...      0\n",
       "15765  More and more dirt on these two grifters who r...      0\n",
       "17845  Remember the time when a gay couple destroyed ...      0\n",
       "3050   WASHINGTON (Reuters) - Congressional leaders a...      1\n",
       "20391  Dolly Kyle has written a scathing  tell all  b...      0"
      ],
      "text/html": "<div>\n<style scoped>\n    .dataframe tbody tr th:only-of-type {\n        vertical-align: middle;\n    }\n\n    .dataframe tbody tr th {\n        vertical-align: top;\n    }\n\n    .dataframe thead th {\n        text-align: right;\n    }\n</style>\n<table border=\"1\" class=\"dataframe\">\n  <thead>\n    <tr style=\"text-align: right;\">\n      <th></th>\n      <th>text</th>\n      <th>class</th>\n    </tr>\n  </thead>\n  <tbody>\n    <tr>\n      <th>12845</th>\n      <td>Is CNN contributor and Democratic Strategist B...</td>\n      <td>0</td>\n    </tr>\n    <tr>\n      <th>19721</th>\n      <td>NBC reports:The FBI is reviewing a new batch o...</td>\n      <td>0</td>\n    </tr>\n    <tr>\n      <th>17429</th>\n      <td>BERLIN (Reuters) - After a series of setbacks ...</td>\n      <td>1</td>\n    </tr>\n    <tr>\n      <th>15518</th>\n      <td>Americans need to put American citizens first ...</td>\n      <td>0</td>\n    </tr>\n    <tr>\n      <th>10514</th>\n      <td>Some day, when things calm down, I'll tell the...</td>\n      <td>0</td>\n    </tr>\n    <tr>\n      <th>6837</th>\n      <td>When I was a kid, I watched a number of fights...</td>\n      <td>0</td>\n    </tr>\n    <tr>\n      <th>15765</th>\n      <td>More and more dirt on these two grifters who r...</td>\n      <td>0</td>\n    </tr>\n    <tr>\n      <th>17845</th>\n      <td>Remember the time when a gay couple destroyed ...</td>\n      <td>0</td>\n    </tr>\n    <tr>\n      <th>3050</th>\n      <td>WASHINGTON (Reuters) - Congressional leaders a...</td>\n      <td>1</td>\n    </tr>\n    <tr>\n      <th>20391</th>\n      <td>Dolly Kyle has written a scathing  tell all  b...</td>\n      <td>0</td>\n    </tr>\n  </tbody>\n</table>\n</div>"
     },
     "metadata": {},
     "execution_count": 18
    }
   ],
   "source": [
    "df = df.sample(frac=1)\n",
    "df.head(10)"
   ]
  },
  {
   "cell_type": "code",
   "execution_count": 19,
   "metadata": {},
   "outputs": [
    {
     "output_type": "execute_result",
     "data": {
      "text/plain": [
       "text     0\n",
       "class    0\n",
       "dtype: int64"
      ]
     },
     "metadata": {},
     "execution_count": 19
    }
   ],
   "source": [
    "df.isnull().sum()"
   ]
  },
  {
   "cell_type": "markdown",
   "metadata": {},
   "source": [
    "### Creating a function to convert the text in lowercase, remove the extra space, special chr., ulr and links.\n"
   ]
  },
  {
   "cell_type": "code",
   "execution_count": 20,
   "metadata": {},
   "outputs": [],
   "source": [
    "def word_drop(text):\n",
    "    text = text.lower()\n",
    "    text = re.sub('\\[.*?\\]', '', text)\n",
    "    text = re.sub(\"\\\\W\",\" \",text) \n",
    "    text = re.sub('https?://\\S+|www\\.\\S+', '', text)\n",
    "    text = re.sub('<.*?>+', '', text)\n",
    "    text = re.sub('[%s]' % re.escape(string.punctuation), '', text)\n",
    "    text = re.sub('\\n', '', text)\n",
    "    text = re.sub('\\w*\\d\\w*', '', text)    \n",
    "    return text"
   ]
  },
  {
   "cell_type": "code",
   "execution_count": 22,
   "metadata": {},
   "outputs": [],
   "source": [
    "df[\"text\"] = df[\"text\"].apply(word_drop)"
   ]
  },
  {
   "cell_type": "code",
   "execution_count": 23,
   "metadata": {},
   "outputs": [
    {
     "output_type": "execute_result",
     "data": {
      "text/plain": [
       "                                                    text  class\n",
       "12845  is cnn contributor and democratic strategist b...      0\n",
       "19721  nbc reports the fbi is reviewing a new batch o...      0\n",
       "17429  berlin  reuters    after a series of setbacks ...      1\n",
       "15518  americans need to put american citizens first ...      0\n",
       "10514  some day  when things calm down  i ll tell the...      0\n",
       "6837   when i was a kid  i watched a number of fights...      0\n",
       "15765  more and more dirt on these two grifters who r...      0\n",
       "17845  remember the time when a gay couple destroyed ...      0\n",
       "3050   washington  reuters    congressional leaders a...      1\n",
       "20391  dolly kyle has written a scathing  tell all  b...      0"
      ],
      "text/html": "<div>\n<style scoped>\n    .dataframe tbody tr th:only-of-type {\n        vertical-align: middle;\n    }\n\n    .dataframe tbody tr th {\n        vertical-align: top;\n    }\n\n    .dataframe thead th {\n        text-align: right;\n    }\n</style>\n<table border=\"1\" class=\"dataframe\">\n  <thead>\n    <tr style=\"text-align: right;\">\n      <th></th>\n      <th>text</th>\n      <th>class</th>\n    </tr>\n  </thead>\n  <tbody>\n    <tr>\n      <th>12845</th>\n      <td>is cnn contributor and democratic strategist b...</td>\n      <td>0</td>\n    </tr>\n    <tr>\n      <th>19721</th>\n      <td>nbc reports the fbi is reviewing a new batch o...</td>\n      <td>0</td>\n    </tr>\n    <tr>\n      <th>17429</th>\n      <td>berlin  reuters    after a series of setbacks ...</td>\n      <td>1</td>\n    </tr>\n    <tr>\n      <th>15518</th>\n      <td>americans need to put american citizens first ...</td>\n      <td>0</td>\n    </tr>\n    <tr>\n      <th>10514</th>\n      <td>some day  when things calm down  i ll tell the...</td>\n      <td>0</td>\n    </tr>\n    <tr>\n      <th>6837</th>\n      <td>when i was a kid  i watched a number of fights...</td>\n      <td>0</td>\n    </tr>\n    <tr>\n      <th>15765</th>\n      <td>more and more dirt on these two grifters who r...</td>\n      <td>0</td>\n    </tr>\n    <tr>\n      <th>17845</th>\n      <td>remember the time when a gay couple destroyed ...</td>\n      <td>0</td>\n    </tr>\n    <tr>\n      <th>3050</th>\n      <td>washington  reuters    congressional leaders a...</td>\n      <td>1</td>\n    </tr>\n    <tr>\n      <th>20391</th>\n      <td>dolly kyle has written a scathing  tell all  b...</td>\n      <td>0</td>\n    </tr>\n  </tbody>\n</table>\n</div>"
     },
     "metadata": {},
     "execution_count": 23
    }
   ],
   "source": [
    "df.head(10)"
   ]
  },
  {
   "cell_type": "markdown",
   "metadata": {},
   "source": [
    "### Defining dependent and independent variable as x and y"
   ]
  },
  {
   "cell_type": "code",
   "execution_count": 24,
   "metadata": {},
   "outputs": [],
   "source": [
    "x = df[\"text\"]\n",
    "y = df[\"class\"]"
   ]
  },
  {
   "cell_type": "markdown",
   "metadata": {},
   "source": [
    "### Splitting the dataset into training set and testing set."
   ]
  },
  {
   "cell_type": "code",
   "execution_count": 25,
   "metadata": {},
   "outputs": [],
   "source": [
    "x_train, x_test, y_train, y_test = train_test_split(x, y, test_size=0.25)"
   ]
  },
  {
   "cell_type": "markdown",
   "metadata": {},
   "source": [
    "### Convert text to vectors"
   ]
  },
  {
   "cell_type": "code",
   "execution_count": 26,
   "metadata": {},
   "outputs": [],
   "source": [
    "from sklearn.feature_extraction.text import TfidfVectorizer"
   ]
  },
  {
   "cell_type": "code",
   "execution_count": 27,
   "metadata": {},
   "outputs": [],
   "source": [
    "vectorization = TfidfVectorizer()\n",
    "xv_train = vectorization.fit_transform(x_train)\n",
    "xv_test = vectorization.transform(x_test)"
   ]
  },
  {
   "cell_type": "markdown",
   "metadata": {},
   "source": [
    "### 1. Logistic Regression"
   ]
  },
  {
   "cell_type": "code",
   "execution_count": 28,
   "metadata": {},
   "outputs": [],
   "source": [
    "from sklearn.linear_model import LogisticRegression"
   ]
  },
  {
   "cell_type": "code",
   "execution_count": 29,
   "metadata": {},
   "outputs": [
    {
     "output_type": "execute_result",
     "data": {
      "text/plain": [
       "LogisticRegression()"
      ]
     },
     "metadata": {},
     "execution_count": 29
    }
   ],
   "source": [
    "LR = LogisticRegression()\n",
    "LR.fit(xv_train,y_train)"
   ]
  },
  {
   "cell_type": "code",
   "execution_count": 30,
   "metadata": {},
   "outputs": [
    {
     "output_type": "execute_result",
     "data": {
      "text/plain": [
       "0.9861853832442068"
      ]
     },
     "metadata": {},
     "execution_count": 30
    }
   ],
   "source": [
    "LR.score(xv_test, y_test)"
   ]
  },
  {
   "cell_type": "code",
   "execution_count": 31,
   "metadata": {},
   "outputs": [],
   "source": [
    "pred_LR = LR.predict(xv_test)"
   ]
  },
  {
   "cell_type": "code",
   "execution_count": 32,
   "metadata": {},
   "outputs": [
    {
     "output_type": "stream",
     "name": "stdout",
     "text": [
      "              precision    recall  f1-score   support\n\n           0       0.99      0.99      0.99      5891\n           1       0.98      0.99      0.99      5329\n\n    accuracy                           0.99     11220\n   macro avg       0.99      0.99      0.99     11220\nweighted avg       0.99      0.99      0.99     11220\n\n"
     ]
    }
   ],
   "source": [
    "print(classification_report(y_test, pred_LR))"
   ]
  },
  {
   "cell_type": "markdown",
   "metadata": {},
   "source": [
    "### 2. Decision Tree Classification"
   ]
  },
  {
   "cell_type": "code",
   "execution_count": 33,
   "metadata": {},
   "outputs": [],
   "source": [
    "from sklearn.tree import DecisionTreeClassifier"
   ]
  },
  {
   "cell_type": "code",
   "execution_count": 34,
   "metadata": {},
   "outputs": [
    {
     "output_type": "execute_result",
     "data": {
      "text/plain": [
       "DecisionTreeClassifier()"
      ]
     },
     "metadata": {},
     "execution_count": 34
    }
   ],
   "source": [
    "DT = DecisionTreeClassifier()\n",
    "DT.fit(xv_train, y_train)"
   ]
  },
  {
   "cell_type": "code",
   "execution_count": 35,
   "metadata": {},
   "outputs": [
    {
     "output_type": "execute_result",
     "data": {
      "text/plain": [
       "0.9950980392156863"
      ]
     },
     "metadata": {},
     "execution_count": 35
    }
   ],
   "source": [
    "DT.score(xv_test, y_test)"
   ]
  },
  {
   "cell_type": "code",
   "execution_count": 36,
   "metadata": {},
   "outputs": [],
   "source": [
    "pred_dt = DT.predict(xv_test)"
   ]
  },
  {
   "cell_type": "code",
   "execution_count": 37,
   "metadata": {},
   "outputs": [
    {
     "output_type": "stream",
     "name": "stdout",
     "text": [
      "              precision    recall  f1-score   support\n\n           0       0.99      1.00      1.00      5891\n           1       1.00      0.99      0.99      5329\n\n    accuracy                           1.00     11220\n   macro avg       1.00      1.00      1.00     11220\nweighted avg       1.00      1.00      1.00     11220\n\n"
     ]
    }
   ],
   "source": [
    "print(classification_report(y_test, pred_dt))"
   ]
  },
  {
   "cell_type": "markdown",
   "metadata": {},
   "source": [
    "### 3. Gradient Boosting Classifier"
   ]
  },
  {
   "cell_type": "code",
   "execution_count": 49,
   "metadata": {},
   "outputs": [],
   "source": [
    "from sklearn.ensemble import GradientBoostingClassifier"
   ]
  },
  {
   "cell_type": "code",
   "execution_count": 50,
   "metadata": {},
   "outputs": [
    {
     "output_type": "execute_result",
     "data": {
      "text/plain": [
       "GradientBoostingClassifier(random_state=0)"
      ]
     },
     "metadata": {},
     "execution_count": 50
    }
   ],
   "source": [
    "GBC = GradientBoostingClassifier(random_state=0)\n",
    "GBC.fit(xv_train, y_train)"
   ]
  },
  {
   "cell_type": "code",
   "execution_count": 51,
   "metadata": {},
   "outputs": [
    {
     "output_type": "execute_result",
     "data": {
      "text/plain": [
       "0.9952762923351158"
      ]
     },
     "metadata": {},
     "execution_count": 51
    }
   ],
   "source": [
    "GBC.score(xv_test, y_test)"
   ]
  },
  {
   "cell_type": "code",
   "execution_count": 52,
   "metadata": {},
   "outputs": [],
   "source": [
    "pred_GBC = GBC.predict(xv_test)"
   ]
  },
  {
   "cell_type": "code",
   "execution_count": 53,
   "metadata": {},
   "outputs": [
    {
     "output_type": "stream",
     "name": "stdout",
     "text": [
      "              precision    recall  f1-score   support\n\n           0       1.00      0.99      1.00      5891\n           1       0.99      1.00      1.00      5329\n\n    accuracy                           1.00     11220\n   macro avg       1.00      1.00      1.00     11220\nweighted avg       1.00      1.00      1.00     11220\n\n"
     ]
    }
   ],
   "source": [
    "print(classification_report(y_test, pred_GBC))"
   ]
  },
  {
   "cell_type": "code",
   "execution_count": 55,
   "metadata": {},
   "outputs": [
    {
     "output_type": "execute_result",
     "data": {
      "text/plain": [
       "{}"
      ]
     },
     "metadata": {},
     "execution_count": 55
    }
   ],
   "source": [
    "{}\n",
    "####4. Random Forest Classifier"
   ]
  },
  {
   "cell_type": "code",
   "execution_count": 56,
   "metadata": {},
   "outputs": [],
   "source": [
    "from sklearn.ensemble import RandomForestClassifier"
   ]
  },
  {
   "cell_type": "code",
   "execution_count": 57,
   "metadata": {},
   "outputs": [
    {
     "output_type": "execute_result",
     "data": {
      "text/plain": [
       "RandomForestClassifier(random_state=0)"
      ]
     },
     "metadata": {},
     "execution_count": 57
    }
   ],
   "source": [
    "RFC = RandomForestClassifier(random_state=0)\n",
    "RFC.fit(xv_train, y_train)"
   ]
  },
  {
   "cell_type": "code",
   "execution_count": 58,
   "metadata": {},
   "outputs": [
    {
     "output_type": "execute_result",
     "data": {
      "text/plain": [
       "0.9874331550802139"
      ]
     },
     "metadata": {},
     "execution_count": 58
    }
   ],
   "source": [
    "RFC.score(xv_test, y_test)"
   ]
  },
  {
   "cell_type": "code",
   "execution_count": 59,
   "metadata": {},
   "outputs": [],
   "source": [
    "pred_RFC = RFC.predict(xv_test)"
   ]
  },
  {
   "cell_type": "code",
   "execution_count": 60,
   "metadata": {},
   "outputs": [
    {
     "output_type": "stream",
     "name": "stdout",
     "text": [
      "              precision    recall  f1-score   support\n\n           0       0.99      0.99      0.99      5891\n           1       0.99      0.98      0.99      5329\n\n    accuracy                           0.99     11220\n   macro avg       0.99      0.99      0.99     11220\nweighted avg       0.99      0.99      0.99     11220\n\n"
     ]
    }
   ],
   "source": [
    "print(classification_report(y_test, pred_RFC))"
   ]
  },
  {
   "cell_type": "code",
   "execution_count": 61,
   "metadata": {},
   "outputs": [],
   "source": [
    "##Manual Testing"
   ]
  },
  {
   "cell_type": "code",
   "execution_count": 64,
   "metadata": {},
   "outputs": [],
   "source": [
    "def output_lable(n):\n",
    "    if n==0:\n",
    "        return \"Fake News\"\n",
    "    elif n==1:\n",
    "        return \"True News\"\n",
    "\n",
    "def manual_testing(news):\n",
    "    testing_news = {\"text\":[news]}\n",
    "    new_def_test = pd.DataFrame(testing_news)\n",
    "    new_def_test[\"text\"] = new_def_test[\"text\"].apply(word_drop)\n",
    "    new_x_test = new_def_test[\"text\"]\n",
    "    new_xv_test = vectorization.transform(new_x_test)\n",
    "    pred_LR = LR.predict(new_xv_test)\n",
    "    pred_DT = DT.predict(new_xv_test)\n",
    "    pred_GBC = GBC.predict(new_xv_test)\n",
    "    pred_RFC = RFC.predict(new_xv_test)\n",
    "\n",
    "    return print(\"\\n\\nLR Prediction:() \\nDT Prediction:() \\nGBC Prediction:() \\nRFC Prediction:()\".format(output_lable(pred_LR),output_lable(pred_DT), output_lable(pred_GBC),output_lable(pred_RFC)))"
   ]
  },
  {
   "cell_type": "code",
   "execution_count": 65,
   "metadata": {},
   "outputs": [
    {
     "output_type": "stream",
     "name": "stdout",
     "text": [
      "\n\nLR Prediction:() \nDT Prediction:() \nGBC Prediction:() \nRFC Prediction:()\n"
     ]
    }
   ],
   "source": [
    "news = str(input())\n",
    "manual_testing(news)"
   ]
  },
  {
   "cell_type": "code",
   "execution_count": 88,
   "metadata": {},
   "outputs": [
    {
     "output_type": "stream",
     "name": "stdout",
     "text": [
      "Requirement already satisfied: matplotlib in c:\\users\\dell\\appdata\\local\\programs\\python\\python39\\lib\\site-packages (3.4.2)\n",
      "Requirement already satisfied: cycler>=0.10 in c:\\users\\dell\\appdata\\local\\programs\\python\\python39\\lib\\site-packages (from matplotlib) (0.10.0)\n",
      "Requirement already satisfied: kiwisolver>=1.0.1 in c:\\users\\dell\\appdata\\local\\programs\\python\\python39\\lib\\site-packages (from matplotlib) (1.3.1)\n",
      "Requirement already satisfied: pillow>=6.2.0 in c:\\users\\dell\\appdata\\local\\programs\\python\\python39\\lib\\site-packages (from matplotlib) (8.2.0)\n",
      "Requirement already satisfied: python-dateutil>=2.7 in c:\\users\\dell\\appdata\\roaming\\python\\python39\\site-packages (from matplotlib) (2.8.1)\n",
      "Requirement already satisfied: numpy>=1.16 in c:\\users\\dell\\appdata\\local\\programs\\python\\python39\\lib\\site-packages (from matplotlib) (1.21.0)\n",
      "Requirement already satisfied: pyparsing>=2.2.1 in c:\\users\\dell\\appdata\\local\\programs\\python\\python39\\lib\\site-packages (from matplotlib) (2.4.7)\n",
      "Requirement already satisfied: six in c:\\users\\dell\\appdata\\roaming\\python\\python39\\site-packages (from cycler>=0.10->matplotlib) (1.16.0)\n",
      "Note: you may need to restart the kernel to use updated packages.\n",
      "WARNING: You are using pip version 21.1.1; however, version 21.1.2 is available.\n",
      "You should consider upgrading via the 'C:\\Users\\Dell\\AppData\\Local\\Programs\\Python\\Python39\\python.exe -m pip install --upgrade pip' command.\n"
     ]
    }
   ],
   "source": [
    "pip install matplotlib"
   ]
  },
  {
   "cell_type": "code",
   "execution_count": 89,
   "metadata": {},
   "outputs": [
    {
     "output_type": "stream",
     "name": "stdout",
     "text": [
      "Requirement already satisfied: seaborn in c:\\users\\dell\\appdata\\local\\programs\\python\\python39\\lib\\site-packages (0.11.1)Note: you may need to restart the kernel to use updated packages.\n",
      "\n",
      "Requirement already satisfied: numpy>=1.15 in c:\\users\\dell\\appdata\\local\\programs\\python\\python39\\lib\\site-packages (from seaborn) (1.21.0)\n",
      "Requirement already satisfied: scipy>=1.0 in c:\\users\\dell\\appdata\\local\\programs\\python\\python39\\lib\\site-packages (from seaborn) (1.7.0)\n",
      "Requirement already satisfied: pandas>=0.23 in c:\\users\\dell\\appdata\\local\\programs\\python\\python39\\lib\\site-packages (from seaborn) (1.2.5)\n",
      "Requirement already satisfied: matplotlib>=2.2 in c:\\users\\dell\\appdata\\local\\programs\\python\\python39\\lib\\site-packages (from seaborn) (3.4.2)\n",
      "Requirement already satisfied: python-dateutil>=2.7 in c:\\users\\dell\\appdata\\roaming\\python\\python39\\site-packages (from matplotlib>=2.2->seaborn) (2.8.1)\n",
      "Requirement already satisfied: cycler>=0.10 in c:\\users\\dell\\appdata\\local\\programs\\python\\python39\\lib\\site-packages (from matplotlib>=2.2->seaborn) (0.10.0)\n",
      "Requirement already satisfied: pillow>=6.2.0 in c:\\users\\dell\\appdata\\local\\programs\\python\\python39\\lib\\site-packages (from matplotlib>=2.2->seaborn) (8.2.0)WARNING: You are using pip version 21.1.1; however, version 21.1.2 is available.\n",
      "You should consider upgrading via the 'C:\\Users\\Dell\\AppData\\Local\\Programs\\Python\\Python39\\python.exe -m pip install --upgrade pip' command.\n",
      "\n",
      "Requirement already satisfied: kiwisolver>=1.0.1 in c:\\users\\dell\\appdata\\local\\programs\\python\\python39\\lib\\site-packages (from matplotlib>=2.2->seaborn) (1.3.1)\n",
      "Requirement already satisfied: pyparsing>=2.2.1 in c:\\users\\dell\\appdata\\local\\programs\\python\\python39\\lib\\site-packages (from matplotlib>=2.2->seaborn) (2.4.7)\n",
      "Requirement already satisfied: six in c:\\users\\dell\\appdata\\roaming\\python\\python39\\site-packages (from cycler>=0.10->matplotlib>=2.2->seaborn) (1.16.0)\n",
      "Requirement already satisfied: pytz>=2017.3 in c:\\users\\dell\\appdata\\local\\programs\\python\\python39\\lib\\site-packages (from pandas>=0.23->seaborn) (2021.1)\n"
     ]
    }
   ],
   "source": [
    "pip install seaborn"
   ]
  },
  {
   "cell_type": "code",
   "execution_count": 90,
   "metadata": {},
   "outputs": [],
   "source": [
    "import pandas as pd\n",
    "import numpy as np\n",
    "%matplotlib inline\n",
    "import matplotlib.pyplot as plt\n",
    "import seaborn as sns\n",
    "sns.set()\n",
    "\n",
    "import warnings\n",
    "warnings.filterwarnings('ignore')"
   ]
  },
  {
   "cell_type": "code",
   "execution_count": 91,
   "metadata": {},
   "outputs": [],
   "source": [
    "from sklearn import datasets\n",
    "from sklearn.model_selection import train_test_split\n",
    "\n",
    "data = datasets.load_breast_cancer()\n",
    "\n",
    "X = data.data\n",
    "y = data.target\n",
    "\n",
    "X_train, X_test, y_train, y_test = train_test_split(X, y, \n",
    "                                                    test_size=.25,\n",
    "                                                    random_state=1234)"
   ]
  },
  {
   "cell_type": "code",
   "execution_count": 92,
   "metadata": {},
   "outputs": [],
   "source": [
    "# Import the classifiers\n",
    "from sklearn.linear_model import LogisticRegression\n",
    "from sklearn.ensemble import GradientBoostingClassifier\n",
    "from sklearn.tree import DecisionTreeClassifier\n",
    "from sklearn.ensemble import RandomForestClassifier\n",
    "\n",
    "from sklearn.metrics import roc_curve, roc_auc_score\n"
   ]
  },
  {
   "cell_type": "code",
   "execution_count": 93,
   "metadata": {},
   "outputs": [],
   "source": [
    "# Instantiate the classfiers and make a list\n",
    "classifiers = [LogisticRegression(random_state=1234), \n",
    "               GradientBoostingClassifier(random_state=1234),\n",
    "               DecisionTreeClassifier(random_state=1234),\n",
    "               RandomForestClassifier(random_state=1234)]"
   ]
  },
  {
   "cell_type": "code",
   "execution_count": 94,
   "metadata": {},
   "outputs": [],
   "source": [
    "# Define a result table as a DataFrame\n",
    "result_table = pd.DataFrame(columns=['classifiers', 'fpr','tpr','auc'])"
   ]
  },
  {
   "cell_type": "code",
   "execution_count": 95,
   "metadata": {},
   "outputs": [],
   "source": [
    "# Train the models and record the results\n",
    "for cls in classifiers:\n",
    "    model = cls.fit(X_train, y_train)\n",
    "    yproba = model.predict_proba(X_test)[::,1]\n",
    "    \n",
    "    fpr, tpr, _ = roc_curve(y_test,  yproba)\n",
    "    auc = roc_auc_score(y_test, yproba)\n",
    "    \n",
    "    result_table = result_table.append({'classifiers':cls.__class__.__name__,\n",
    "                                        'fpr':fpr, \n",
    "                                        'tpr':tpr, \n",
    "                                        'auc':auc}, ignore_index=True)\n",
    "\n",
    "# Set name of the classifiers as index labels\n",
    "result_table.set_index('classifiers', inplace=True)"
   ]
  },
  {
   "cell_type": "code",
   "execution_count": 96,
   "metadata": {},
   "outputs": [
    {
     "output_type": "display_data",
     "data": {
      "text/plain": "<Figure size 576x432 with 1 Axes>",
      "image/svg+xml": "<?xml version=\"1.0\" encoding=\"utf-8\" standalone=\"no\"?>\r\n<!DOCTYPE svg PUBLIC \"-//W3C//DTD SVG 1.1//EN\"\r\n  \"http://www.w3.org/Graphics/SVG/1.1/DTD/svg11.dtd\">\r\n<svg height=\"394.757344pt\" version=\"1.1\" viewBox=\"0 0 503.307969 394.757344\" width=\"503.307969pt\" xmlns=\"http://www.w3.org/2000/svg\" xmlns:xlink=\"http://www.w3.org/1999/xlink\">\r\n <metadata>\r\n  <rdf:RDF xmlns:cc=\"http://creativecommons.org/ns#\" xmlns:dc=\"http://purl.org/dc/elements/1.1/\" xmlns:rdf=\"http://www.w3.org/1999/02/22-rdf-syntax-ns#\">\r\n   <cc:Work>\r\n    <dc:type rdf:resource=\"http://purl.org/dc/dcmitype/StillImage\"/>\r\n    <dc:date>2021-06-24T17:39:53.202063</dc:date>\r\n    <dc:format>image/svg+xml</dc:format>\r\n    <dc:creator>\r\n     <cc:Agent>\r\n      <dc:title>Matplotlib v3.4.2, https://matplotlib.org/</dc:title>\r\n     </cc:Agent>\r\n    </dc:creator>\r\n   </cc:Work>\r\n  </rdf:RDF>\r\n </metadata>\r\n <defs>\r\n  <style type=\"text/css\">*{stroke-linecap:butt;stroke-linejoin:round;}</style>\r\n </defs>\r\n <g id=\"figure_1\">\r\n  <g id=\"patch_1\">\r\n   <path d=\"M 0 394.757344 \r\nL 503.307969 394.757344 \r\nL 503.307969 0 \r\nL 0 0 \r\nz\r\n\" style=\"fill:#ffffff;\"/>\r\n  </g>\r\n  <g id=\"axes_1\">\r\n   <g id=\"patch_2\">\r\n    <path d=\"M 49.707969 350.279531 \r\nL 496.107969 350.279531 \r\nL 496.107969 24.119531 \r\nL 49.707969 24.119531 \r\nz\r\n\" style=\"fill:#eaeaf2;\"/>\r\n   </g>\r\n   <g id=\"matplotlib.axis_1\">\r\n    <g id=\"xtick_1\">\r\n     <g id=\"line2d_1\">\r\n      <path clip-path=\"url(#pba04d44bbc)\" d=\"M 69.998878 350.279531 \r\nL 69.998878 24.119531 \r\n\" style=\"fill:none;stroke:#ffffff;stroke-linecap:round;\"/>\r\n     </g>\r\n     <g id=\"text_1\">\r\n      <!-- 0.0 -->\r\n      <g style=\"fill:#262626;\" transform=\"translate(62.353878 367.653125)scale(0.11 -0.11)\">\r\n       <defs>\r\n        <path d=\"M 266 2259 \r\nQ 266 3072 433 3567 \r\nQ 600 4063 929 4331 \r\nQ 1259 4600 1759 4600 \r\nQ 2128 4600 2406 4451 \r\nQ 2684 4303 2865 4023 \r\nQ 3047 3744 3150 3342 \r\nQ 3253 2941 3253 2259 \r\nQ 3253 1453 3087 958 \r\nQ 2922 463 2592 192 \r\nQ 2263 -78 1759 -78 \r\nQ 1097 -78 719 397 \r\nQ 266 969 266 2259 \r\nz\r\nM 844 2259 \r\nQ 844 1131 1108 757 \r\nQ 1372 384 1759 384 \r\nQ 2147 384 2411 759 \r\nQ 2675 1134 2675 2259 \r\nQ 2675 3391 2411 3762 \r\nQ 2147 4134 1753 4134 \r\nQ 1366 4134 1134 3806 \r\nQ 844 3388 844 2259 \r\nz\r\n\" id=\"ArialMT-30\" transform=\"scale(0.015625)\"/>\r\n        <path d=\"M 581 0 \r\nL 581 641 \r\nL 1222 641 \r\nL 1222 0 \r\nL 581 0 \r\nz\r\n\" id=\"ArialMT-2e\" transform=\"scale(0.015625)\"/>\r\n       </defs>\r\n       <use xlink:href=\"#ArialMT-30\"/>\r\n       <use x=\"55.615234\" xlink:href=\"#ArialMT-2e\"/>\r\n       <use x=\"83.398438\" xlink:href=\"#ArialMT-30\"/>\r\n      </g>\r\n     </g>\r\n    </g>\r\n    <g id=\"xtick_2\">\r\n     <g id=\"line2d_2\">\r\n      <path clip-path=\"url(#pba04d44bbc)\" d=\"M 110.580696 350.279531 \r\nL 110.580696 24.119531 \r\n\" style=\"fill:none;stroke:#ffffff;stroke-linecap:round;\"/>\r\n     </g>\r\n     <g id=\"text_2\">\r\n      <!-- 0.1 -->\r\n      <g style=\"fill:#262626;\" transform=\"translate(102.935696 367.653125)scale(0.11 -0.11)\">\r\n       <defs>\r\n        <path d=\"M 2384 0 \r\nL 1822 0 \r\nL 1822 3584 \r\nQ 1619 3391 1289 3197 \r\nQ 959 3003 697 2906 \r\nL 697 3450 \r\nQ 1169 3672 1522 3987 \r\nQ 1875 4303 2022 4600 \r\nL 2384 4600 \r\nL 2384 0 \r\nz\r\n\" id=\"ArialMT-31\" transform=\"scale(0.015625)\"/>\r\n       </defs>\r\n       <use xlink:href=\"#ArialMT-30\"/>\r\n       <use x=\"55.615234\" xlink:href=\"#ArialMT-2e\"/>\r\n       <use x=\"83.398438\" xlink:href=\"#ArialMT-31\"/>\r\n      </g>\r\n     </g>\r\n    </g>\r\n    <g id=\"xtick_3\">\r\n     <g id=\"line2d_3\">\r\n      <path clip-path=\"url(#pba04d44bbc)\" d=\"M 151.162514 350.279531 \r\nL 151.162514 24.119531 \r\n\" style=\"fill:none;stroke:#ffffff;stroke-linecap:round;\"/>\r\n     </g>\r\n     <g id=\"text_3\">\r\n      <!-- 0.2 -->\r\n      <g style=\"fill:#262626;\" transform=\"translate(143.517514 367.653125)scale(0.11 -0.11)\">\r\n       <defs>\r\n        <path d=\"M 3222 541 \r\nL 3222 0 \r\nL 194 0 \r\nQ 188 203 259 391 \r\nQ 375 700 629 1000 \r\nQ 884 1300 1366 1694 \r\nQ 2113 2306 2375 2664 \r\nQ 2638 3022 2638 3341 \r\nQ 2638 3675 2398 3904 \r\nQ 2159 4134 1775 4134 \r\nQ 1369 4134 1125 3890 \r\nQ 881 3647 878 3216 \r\nL 300 3275 \r\nQ 359 3922 746 4261 \r\nQ 1134 4600 1788 4600 \r\nQ 2447 4600 2831 4234 \r\nQ 3216 3869 3216 3328 \r\nQ 3216 3053 3103 2787 \r\nQ 2991 2522 2730 2228 \r\nQ 2469 1934 1863 1422 \r\nQ 1356 997 1212 845 \r\nQ 1069 694 975 541 \r\nL 3222 541 \r\nz\r\n\" id=\"ArialMT-32\" transform=\"scale(0.015625)\"/>\r\n       </defs>\r\n       <use xlink:href=\"#ArialMT-30\"/>\r\n       <use x=\"55.615234\" xlink:href=\"#ArialMT-2e\"/>\r\n       <use x=\"83.398438\" xlink:href=\"#ArialMT-32\"/>\r\n      </g>\r\n     </g>\r\n    </g>\r\n    <g id=\"xtick_4\">\r\n     <g id=\"line2d_4\">\r\n      <path clip-path=\"url(#pba04d44bbc)\" d=\"M 191.744332 350.279531 \r\nL 191.744332 24.119531 \r\n\" style=\"fill:none;stroke:#ffffff;stroke-linecap:round;\"/>\r\n     </g>\r\n     <g id=\"text_4\">\r\n      <!-- 0.3 -->\r\n      <g style=\"fill:#262626;\" transform=\"translate(184.099332 367.653125)scale(0.11 -0.11)\">\r\n       <defs>\r\n        <path d=\"M 269 1209 \r\nL 831 1284 \r\nQ 928 806 1161 595 \r\nQ 1394 384 1728 384 \r\nQ 2125 384 2398 659 \r\nQ 2672 934 2672 1341 \r\nQ 2672 1728 2419 1979 \r\nQ 2166 2231 1775 2231 \r\nQ 1616 2231 1378 2169 \r\nL 1441 2663 \r\nQ 1497 2656 1531 2656 \r\nQ 1891 2656 2178 2843 \r\nQ 2466 3031 2466 3422 \r\nQ 2466 3731 2256 3934 \r\nQ 2047 4138 1716 4138 \r\nQ 1388 4138 1169 3931 \r\nQ 950 3725 888 3313 \r\nL 325 3413 \r\nQ 428 3978 793 4289 \r\nQ 1159 4600 1703 4600 \r\nQ 2078 4600 2393 4439 \r\nQ 2709 4278 2876 4000 \r\nQ 3044 3722 3044 3409 \r\nQ 3044 3113 2884 2869 \r\nQ 2725 2625 2413 2481 \r\nQ 2819 2388 3044 2092 \r\nQ 3269 1797 3269 1353 \r\nQ 3269 753 2831 336 \r\nQ 2394 -81 1725 -81 \r\nQ 1122 -81 723 278 \r\nQ 325 638 269 1209 \r\nz\r\n\" id=\"ArialMT-33\" transform=\"scale(0.015625)\"/>\r\n       </defs>\r\n       <use xlink:href=\"#ArialMT-30\"/>\r\n       <use x=\"55.615234\" xlink:href=\"#ArialMT-2e\"/>\r\n       <use x=\"83.398438\" xlink:href=\"#ArialMT-33\"/>\r\n      </g>\r\n     </g>\r\n    </g>\r\n    <g id=\"xtick_5\">\r\n     <g id=\"line2d_5\">\r\n      <path clip-path=\"url(#pba04d44bbc)\" d=\"M 232.326151 350.279531 \r\nL 232.326151 24.119531 \r\n\" style=\"fill:none;stroke:#ffffff;stroke-linecap:round;\"/>\r\n     </g>\r\n     <g id=\"text_5\">\r\n      <!-- 0.4 -->\r\n      <g style=\"fill:#262626;\" transform=\"translate(224.681151 367.653125)scale(0.11 -0.11)\">\r\n       <defs>\r\n        <path d=\"M 2069 0 \r\nL 2069 1097 \r\nL 81 1097 \r\nL 81 1613 \r\nL 2172 4581 \r\nL 2631 4581 \r\nL 2631 1613 \r\nL 3250 1613 \r\nL 3250 1097 \r\nL 2631 1097 \r\nL 2631 0 \r\nL 2069 0 \r\nz\r\nM 2069 1613 \r\nL 2069 3678 \r\nL 634 1613 \r\nL 2069 1613 \r\nz\r\n\" id=\"ArialMT-34\" transform=\"scale(0.015625)\"/>\r\n       </defs>\r\n       <use xlink:href=\"#ArialMT-30\"/>\r\n       <use x=\"55.615234\" xlink:href=\"#ArialMT-2e\"/>\r\n       <use x=\"83.398438\" xlink:href=\"#ArialMT-34\"/>\r\n      </g>\r\n     </g>\r\n    </g>\r\n    <g id=\"xtick_6\">\r\n     <g id=\"line2d_6\">\r\n      <path clip-path=\"url(#pba04d44bbc)\" d=\"M 272.907969 350.279531 \r\nL 272.907969 24.119531 \r\n\" style=\"fill:none;stroke:#ffffff;stroke-linecap:round;\"/>\r\n     </g>\r\n     <g id=\"text_6\">\r\n      <!-- 0.5 -->\r\n      <g style=\"fill:#262626;\" transform=\"translate(265.262969 367.653125)scale(0.11 -0.11)\">\r\n       <defs>\r\n        <path d=\"M 266 1200 \r\nL 856 1250 \r\nQ 922 819 1161 601 \r\nQ 1400 384 1738 384 \r\nQ 2144 384 2425 690 \r\nQ 2706 997 2706 1503 \r\nQ 2706 1984 2436 2262 \r\nQ 2166 2541 1728 2541 \r\nQ 1456 2541 1237 2417 \r\nQ 1019 2294 894 2097 \r\nL 366 2166 \r\nL 809 4519 \r\nL 3088 4519 \r\nL 3088 3981 \r\nL 1259 3981 \r\nL 1013 2750 \r\nQ 1425 3038 1878 3038 \r\nQ 2478 3038 2890 2622 \r\nQ 3303 2206 3303 1553 \r\nQ 3303 931 2941 478 \r\nQ 2500 -78 1738 -78 \r\nQ 1113 -78 717 272 \r\nQ 322 622 266 1200 \r\nz\r\n\" id=\"ArialMT-35\" transform=\"scale(0.015625)\"/>\r\n       </defs>\r\n       <use xlink:href=\"#ArialMT-30\"/>\r\n       <use x=\"55.615234\" xlink:href=\"#ArialMT-2e\"/>\r\n       <use x=\"83.398438\" xlink:href=\"#ArialMT-35\"/>\r\n      </g>\r\n     </g>\r\n    </g>\r\n    <g id=\"xtick_7\">\r\n     <g id=\"line2d_7\">\r\n      <path clip-path=\"url(#pba04d44bbc)\" d=\"M 313.489787 350.279531 \r\nL 313.489787 24.119531 \r\n\" style=\"fill:none;stroke:#ffffff;stroke-linecap:round;\"/>\r\n     </g>\r\n     <g id=\"text_7\">\r\n      <!-- 0.6 -->\r\n      <g style=\"fill:#262626;\" transform=\"translate(305.844787 367.653125)scale(0.11 -0.11)\">\r\n       <defs>\r\n        <path d=\"M 3184 3459 \r\nL 2625 3416 \r\nQ 2550 3747 2413 3897 \r\nQ 2184 4138 1850 4138 \r\nQ 1581 4138 1378 3988 \r\nQ 1113 3794 959 3422 \r\nQ 806 3050 800 2363 \r\nQ 1003 2672 1297 2822 \r\nQ 1591 2972 1913 2972 \r\nQ 2475 2972 2870 2558 \r\nQ 3266 2144 3266 1488 \r\nQ 3266 1056 3080 686 \r\nQ 2894 316 2569 119 \r\nQ 2244 -78 1831 -78 \r\nQ 1128 -78 684 439 \r\nQ 241 956 241 2144 \r\nQ 241 3472 731 4075 \r\nQ 1159 4600 1884 4600 \r\nQ 2425 4600 2770 4297 \r\nQ 3116 3994 3184 3459 \r\nz\r\nM 888 1484 \r\nQ 888 1194 1011 928 \r\nQ 1134 663 1356 523 \r\nQ 1578 384 1822 384 \r\nQ 2178 384 2434 671 \r\nQ 2691 959 2691 1453 \r\nQ 2691 1928 2437 2201 \r\nQ 2184 2475 1800 2475 \r\nQ 1419 2475 1153 2201 \r\nQ 888 1928 888 1484 \r\nz\r\n\" id=\"ArialMT-36\" transform=\"scale(0.015625)\"/>\r\n       </defs>\r\n       <use xlink:href=\"#ArialMT-30\"/>\r\n       <use x=\"55.615234\" xlink:href=\"#ArialMT-2e\"/>\r\n       <use x=\"83.398438\" xlink:href=\"#ArialMT-36\"/>\r\n      </g>\r\n     </g>\r\n    </g>\r\n    <g id=\"xtick_8\">\r\n     <g id=\"line2d_8\">\r\n      <path clip-path=\"url(#pba04d44bbc)\" d=\"M 354.071605 350.279531 \r\nL 354.071605 24.119531 \r\n\" style=\"fill:none;stroke:#ffffff;stroke-linecap:round;\"/>\r\n     </g>\r\n     <g id=\"text_8\">\r\n      <!-- 0.7 -->\r\n      <g style=\"fill:#262626;\" transform=\"translate(346.426605 367.653125)scale(0.11 -0.11)\">\r\n       <defs>\r\n        <path d=\"M 303 3981 \r\nL 303 4522 \r\nL 3269 4522 \r\nL 3269 4084 \r\nQ 2831 3619 2401 2847 \r\nQ 1972 2075 1738 1259 \r\nQ 1569 684 1522 0 \r\nL 944 0 \r\nQ 953 541 1156 1306 \r\nQ 1359 2072 1739 2783 \r\nQ 2119 3494 2547 3981 \r\nL 303 3981 \r\nz\r\n\" id=\"ArialMT-37\" transform=\"scale(0.015625)\"/>\r\n       </defs>\r\n       <use xlink:href=\"#ArialMT-30\"/>\r\n       <use x=\"55.615234\" xlink:href=\"#ArialMT-2e\"/>\r\n       <use x=\"83.398438\" xlink:href=\"#ArialMT-37\"/>\r\n      </g>\r\n     </g>\r\n    </g>\r\n    <g id=\"xtick_9\">\r\n     <g id=\"line2d_9\">\r\n      <path clip-path=\"url(#pba04d44bbc)\" d=\"M 394.653423 350.279531 \r\nL 394.653423 24.119531 \r\n\" style=\"fill:none;stroke:#ffffff;stroke-linecap:round;\"/>\r\n     </g>\r\n     <g id=\"text_9\">\r\n      <!-- 0.8 -->\r\n      <g style=\"fill:#262626;\" transform=\"translate(387.008423 367.653125)scale(0.11 -0.11)\">\r\n       <defs>\r\n        <path d=\"M 1131 2484 \r\nQ 781 2613 612 2850 \r\nQ 444 3088 444 3419 \r\nQ 444 3919 803 4259 \r\nQ 1163 4600 1759 4600 \r\nQ 2359 4600 2725 4251 \r\nQ 3091 3903 3091 3403 \r\nQ 3091 3084 2923 2848 \r\nQ 2756 2613 2416 2484 \r\nQ 2838 2347 3058 2040 \r\nQ 3278 1734 3278 1309 \r\nQ 3278 722 2862 322 \r\nQ 2447 -78 1769 -78 \r\nQ 1091 -78 675 323 \r\nQ 259 725 259 1325 \r\nQ 259 1772 486 2073 \r\nQ 713 2375 1131 2484 \r\nz\r\nM 1019 3438 \r\nQ 1019 3113 1228 2906 \r\nQ 1438 2700 1772 2700 \r\nQ 2097 2700 2305 2904 \r\nQ 2513 3109 2513 3406 \r\nQ 2513 3716 2298 3927 \r\nQ 2084 4138 1766 4138 \r\nQ 1444 4138 1231 3931 \r\nQ 1019 3725 1019 3438 \r\nz\r\nM 838 1322 \r\nQ 838 1081 952 856 \r\nQ 1066 631 1291 507 \r\nQ 1516 384 1775 384 \r\nQ 2178 384 2440 643 \r\nQ 2703 903 2703 1303 \r\nQ 2703 1709 2433 1975 \r\nQ 2163 2241 1756 2241 \r\nQ 1359 2241 1098 1978 \r\nQ 838 1716 838 1322 \r\nz\r\n\" id=\"ArialMT-38\" transform=\"scale(0.015625)\"/>\r\n       </defs>\r\n       <use xlink:href=\"#ArialMT-30\"/>\r\n       <use x=\"55.615234\" xlink:href=\"#ArialMT-2e\"/>\r\n       <use x=\"83.398438\" xlink:href=\"#ArialMT-38\"/>\r\n      </g>\r\n     </g>\r\n    </g>\r\n    <g id=\"xtick_10\">\r\n     <g id=\"line2d_10\">\r\n      <path clip-path=\"url(#pba04d44bbc)\" d=\"M 435.235241 350.279531 \r\nL 435.235241 24.119531 \r\n\" style=\"fill:none;stroke:#ffffff;stroke-linecap:round;\"/>\r\n     </g>\r\n     <g id=\"text_10\">\r\n      <!-- 0.9 -->\r\n      <g style=\"fill:#262626;\" transform=\"translate(427.590241 367.653125)scale(0.11 -0.11)\">\r\n       <defs>\r\n        <path d=\"M 350 1059 \r\nL 891 1109 \r\nQ 959 728 1153 556 \r\nQ 1347 384 1650 384 \r\nQ 1909 384 2104 503 \r\nQ 2300 622 2425 820 \r\nQ 2550 1019 2634 1356 \r\nQ 2719 1694 2719 2044 \r\nQ 2719 2081 2716 2156 \r\nQ 2547 1888 2255 1720 \r\nQ 1963 1553 1622 1553 \r\nQ 1053 1553 659 1965 \r\nQ 266 2378 266 3053 \r\nQ 266 3750 677 4175 \r\nQ 1088 4600 1706 4600 \r\nQ 2153 4600 2523 4359 \r\nQ 2894 4119 3086 3673 \r\nQ 3278 3228 3278 2384 \r\nQ 3278 1506 3087 986 \r\nQ 2897 466 2520 194 \r\nQ 2144 -78 1638 -78 \r\nQ 1100 -78 759 220 \r\nQ 419 519 350 1059 \r\nz\r\nM 2653 3081 \r\nQ 2653 3566 2395 3850 \r\nQ 2138 4134 1775 4134 \r\nQ 1400 4134 1122 3828 \r\nQ 844 3522 844 3034 \r\nQ 844 2597 1108 2323 \r\nQ 1372 2050 1759 2050 \r\nQ 2150 2050 2401 2323 \r\nQ 2653 2597 2653 3081 \r\nz\r\n\" id=\"ArialMT-39\" transform=\"scale(0.015625)\"/>\r\n       </defs>\r\n       <use xlink:href=\"#ArialMT-30\"/>\r\n       <use x=\"55.615234\" xlink:href=\"#ArialMT-2e\"/>\r\n       <use x=\"83.398438\" xlink:href=\"#ArialMT-39\"/>\r\n      </g>\r\n     </g>\r\n    </g>\r\n    <g id=\"xtick_11\">\r\n     <g id=\"line2d_11\">\r\n      <path clip-path=\"url(#pba04d44bbc)\" d=\"M 475.81706 350.279531 \r\nL 475.81706 24.119531 \r\n\" style=\"fill:none;stroke:#ffffff;stroke-linecap:round;\"/>\r\n     </g>\r\n     <g id=\"text_11\">\r\n      <!-- 1.0 -->\r\n      <g style=\"fill:#262626;\" transform=\"translate(468.17206 367.653125)scale(0.11 -0.11)\">\r\n       <use xlink:href=\"#ArialMT-31\"/>\r\n       <use x=\"55.615234\" xlink:href=\"#ArialMT-2e\"/>\r\n       <use x=\"83.398438\" xlink:href=\"#ArialMT-30\"/>\r\n      </g>\r\n     </g>\r\n    </g>\r\n    <g id=\"text_12\">\r\n     <!-- Flase Positive Rate -->\r\n     <g style=\"fill:#262626;\" transform=\"translate(208.300156 384.576094)scale(0.15 -0.15)\">\r\n      <defs>\r\n       <path d=\"M 525 0 \r\nL 525 4581 \r\nL 3616 4581 \r\nL 3616 4041 \r\nL 1131 4041 \r\nL 1131 2622 \r\nL 3281 2622 \r\nL 3281 2081 \r\nL 1131 2081 \r\nL 1131 0 \r\nL 525 0 \r\nz\r\n\" id=\"ArialMT-46\" transform=\"scale(0.015625)\"/>\r\n       <path d=\"M 409 0 \r\nL 409 4581 \r\nL 972 4581 \r\nL 972 0 \r\nL 409 0 \r\nz\r\n\" id=\"ArialMT-6c\" transform=\"scale(0.015625)\"/>\r\n       <path d=\"M 2588 409 \r\nQ 2275 144 1986 34 \r\nQ 1697 -75 1366 -75 \r\nQ 819 -75 525 192 \r\nQ 231 459 231 875 \r\nQ 231 1119 342 1320 \r\nQ 453 1522 633 1644 \r\nQ 813 1766 1038 1828 \r\nQ 1203 1872 1538 1913 \r\nQ 2219 1994 2541 2106 \r\nQ 2544 2222 2544 2253 \r\nQ 2544 2597 2384 2738 \r\nQ 2169 2928 1744 2928 \r\nQ 1347 2928 1158 2789 \r\nQ 969 2650 878 2297 \r\nL 328 2372 \r\nQ 403 2725 575 2942 \r\nQ 747 3159 1072 3276 \r\nQ 1397 3394 1825 3394 \r\nQ 2250 3394 2515 3294 \r\nQ 2781 3194 2906 3042 \r\nQ 3031 2891 3081 2659 \r\nQ 3109 2516 3109 2141 \r\nL 3109 1391 \r\nQ 3109 606 3145 398 \r\nQ 3181 191 3288 0 \r\nL 2700 0 \r\nQ 2613 175 2588 409 \r\nz\r\nM 2541 1666 \r\nQ 2234 1541 1622 1453 \r\nQ 1275 1403 1131 1340 \r\nQ 988 1278 909 1158 \r\nQ 831 1038 831 891 \r\nQ 831 666 1001 516 \r\nQ 1172 366 1500 366 \r\nQ 1825 366 2078 508 \r\nQ 2331 650 2450 897 \r\nQ 2541 1088 2541 1459 \r\nL 2541 1666 \r\nz\r\n\" id=\"ArialMT-61\" transform=\"scale(0.015625)\"/>\r\n       <path d=\"M 197 991 \r\nL 753 1078 \r\nQ 800 744 1014 566 \r\nQ 1228 388 1613 388 \r\nQ 2000 388 2187 545 \r\nQ 2375 703 2375 916 \r\nQ 2375 1106 2209 1216 \r\nQ 2094 1291 1634 1406 \r\nQ 1016 1563 777 1677 \r\nQ 538 1791 414 1992 \r\nQ 291 2194 291 2438 \r\nQ 291 2659 392 2848 \r\nQ 494 3038 669 3163 \r\nQ 800 3259 1026 3326 \r\nQ 1253 3394 1513 3394 \r\nQ 1903 3394 2198 3281 \r\nQ 2494 3169 2634 2976 \r\nQ 2775 2784 2828 2463 \r\nL 2278 2388 \r\nQ 2241 2644 2061 2787 \r\nQ 1881 2931 1553 2931 \r\nQ 1166 2931 1000 2803 \r\nQ 834 2675 834 2503 \r\nQ 834 2394 903 2306 \r\nQ 972 2216 1119 2156 \r\nQ 1203 2125 1616 2013 \r\nQ 2213 1853 2448 1751 \r\nQ 2684 1650 2818 1456 \r\nQ 2953 1263 2953 975 \r\nQ 2953 694 2789 445 \r\nQ 2625 197 2315 61 \r\nQ 2006 -75 1616 -75 \r\nQ 969 -75 630 194 \r\nQ 291 463 197 991 \r\nz\r\n\" id=\"ArialMT-73\" transform=\"scale(0.015625)\"/>\r\n       <path d=\"M 2694 1069 \r\nL 3275 997 \r\nQ 3138 488 2766 206 \r\nQ 2394 -75 1816 -75 \r\nQ 1088 -75 661 373 \r\nQ 234 822 234 1631 \r\nQ 234 2469 665 2931 \r\nQ 1097 3394 1784 3394 \r\nQ 2450 3394 2872 2941 \r\nQ 3294 2488 3294 1666 \r\nQ 3294 1616 3291 1516 \r\nL 816 1516 \r\nQ 847 969 1125 678 \r\nQ 1403 388 1819 388 \r\nQ 2128 388 2347 550 \r\nQ 2566 713 2694 1069 \r\nz\r\nM 847 1978 \r\nL 2700 1978 \r\nQ 2663 2397 2488 2606 \r\nQ 2219 2931 1791 2931 \r\nQ 1403 2931 1139 2672 \r\nQ 875 2413 847 1978 \r\nz\r\n\" id=\"ArialMT-65\" transform=\"scale(0.015625)\"/>\r\n       <path id=\"ArialMT-20\" transform=\"scale(0.015625)\"/>\r\n       <path d=\"M 494 0 \r\nL 494 4581 \r\nL 2222 4581 \r\nQ 2678 4581 2919 4538 \r\nQ 3256 4481 3484 4323 \r\nQ 3713 4166 3852 3881 \r\nQ 3991 3597 3991 3256 \r\nQ 3991 2672 3619 2267 \r\nQ 3247 1863 2275 1863 \r\nL 1100 1863 \r\nL 1100 0 \r\nL 494 0 \r\nz\r\nM 1100 2403 \r\nL 2284 2403 \r\nQ 2872 2403 3119 2622 \r\nQ 3366 2841 3366 3238 \r\nQ 3366 3525 3220 3729 \r\nQ 3075 3934 2838 4000 \r\nQ 2684 4041 2272 4041 \r\nL 1100 4041 \r\nL 1100 2403 \r\nz\r\n\" id=\"ArialMT-50\" transform=\"scale(0.015625)\"/>\r\n       <path d=\"M 213 1659 \r\nQ 213 2581 725 3025 \r\nQ 1153 3394 1769 3394 \r\nQ 2453 3394 2887 2945 \r\nQ 3322 2497 3322 1706 \r\nQ 3322 1066 3130 698 \r\nQ 2938 331 2570 128 \r\nQ 2203 -75 1769 -75 \r\nQ 1072 -75 642 372 \r\nQ 213 819 213 1659 \r\nz\r\nM 791 1659 \r\nQ 791 1022 1069 705 \r\nQ 1347 388 1769 388 \r\nQ 2188 388 2466 706 \r\nQ 2744 1025 2744 1678 \r\nQ 2744 2294 2464 2611 \r\nQ 2184 2928 1769 2928 \r\nQ 1347 2928 1069 2612 \r\nQ 791 2297 791 1659 \r\nz\r\n\" id=\"ArialMT-6f\" transform=\"scale(0.015625)\"/>\r\n       <path d=\"M 425 3934 \r\nL 425 4581 \r\nL 988 4581 \r\nL 988 3934 \r\nL 425 3934 \r\nz\r\nM 425 0 \r\nL 425 3319 \r\nL 988 3319 \r\nL 988 0 \r\nL 425 0 \r\nz\r\n\" id=\"ArialMT-69\" transform=\"scale(0.015625)\"/>\r\n       <path d=\"M 1650 503 \r\nL 1731 6 \r\nQ 1494 -44 1306 -44 \r\nQ 1000 -44 831 53 \r\nQ 663 150 594 308 \r\nQ 525 466 525 972 \r\nL 525 2881 \r\nL 113 2881 \r\nL 113 3319 \r\nL 525 3319 \r\nL 525 4141 \r\nL 1084 4478 \r\nL 1084 3319 \r\nL 1650 3319 \r\nL 1650 2881 \r\nL 1084 2881 \r\nL 1084 941 \r\nQ 1084 700 1114 631 \r\nQ 1144 563 1211 522 \r\nQ 1278 481 1403 481 \r\nQ 1497 481 1650 503 \r\nz\r\n\" id=\"ArialMT-74\" transform=\"scale(0.015625)\"/>\r\n       <path d=\"M 1344 0 \r\nL 81 3319 \r\nL 675 3319 \r\nL 1388 1331 \r\nQ 1503 1009 1600 663 \r\nQ 1675 925 1809 1294 \r\nL 2547 3319 \r\nL 3125 3319 \r\nL 1869 0 \r\nL 1344 0 \r\nz\r\n\" id=\"ArialMT-76\" transform=\"scale(0.015625)\"/>\r\n       <path d=\"M 503 0 \r\nL 503 4581 \r\nL 2534 4581 \r\nQ 3147 4581 3465 4457 \r\nQ 3784 4334 3975 4021 \r\nQ 4166 3709 4166 3331 \r\nQ 4166 2844 3850 2509 \r\nQ 3534 2175 2875 2084 \r\nQ 3116 1969 3241 1856 \r\nQ 3506 1613 3744 1247 \r\nL 4541 0 \r\nL 3778 0 \r\nL 3172 953 \r\nQ 2906 1366 2734 1584 \r\nQ 2563 1803 2427 1890 \r\nQ 2291 1978 2150 2013 \r\nQ 2047 2034 1813 2034 \r\nL 1109 2034 \r\nL 1109 0 \r\nL 503 0 \r\nz\r\nM 1109 2559 \r\nL 2413 2559 \r\nQ 2828 2559 3062 2645 \r\nQ 3297 2731 3419 2920 \r\nQ 3541 3109 3541 3331 \r\nQ 3541 3656 3305 3865 \r\nQ 3069 4075 2559 4075 \r\nL 1109 4075 \r\nL 1109 2559 \r\nz\r\n\" id=\"ArialMT-52\" transform=\"scale(0.015625)\"/>\r\n      </defs>\r\n      <use xlink:href=\"#ArialMT-46\"/>\r\n      <use x=\"61.083984\" xlink:href=\"#ArialMT-6c\"/>\r\n      <use x=\"83.300781\" xlink:href=\"#ArialMT-61\"/>\r\n      <use x=\"138.916016\" xlink:href=\"#ArialMT-73\"/>\r\n      <use x=\"188.916016\" xlink:href=\"#ArialMT-65\"/>\r\n      <use x=\"244.53125\" xlink:href=\"#ArialMT-20\"/>\r\n      <use x=\"272.314453\" xlink:href=\"#ArialMT-50\"/>\r\n      <use x=\"339.013672\" xlink:href=\"#ArialMT-6f\"/>\r\n      <use x=\"394.628906\" xlink:href=\"#ArialMT-73\"/>\r\n      <use x=\"444.628906\" xlink:href=\"#ArialMT-69\"/>\r\n      <use x=\"466.845703\" xlink:href=\"#ArialMT-74\"/>\r\n      <use x=\"494.628906\" xlink:href=\"#ArialMT-69\"/>\r\n      <use x=\"516.845703\" xlink:href=\"#ArialMT-76\"/>\r\n      <use x=\"566.845703\" xlink:href=\"#ArialMT-65\"/>\r\n      <use x=\"622.460938\" xlink:href=\"#ArialMT-20\"/>\r\n      <use x=\"650.244141\" xlink:href=\"#ArialMT-52\"/>\r\n      <use x=\"722.460938\" xlink:href=\"#ArialMT-61\"/>\r\n      <use x=\"778.076172\" xlink:href=\"#ArialMT-74\"/>\r\n      <use x=\"805.859375\" xlink:href=\"#ArialMT-65\"/>\r\n     </g>\r\n    </g>\r\n   </g>\r\n   <g id=\"matplotlib.axis_2\">\r\n    <g id=\"ytick_1\">\r\n     <g id=\"line2d_12\">\r\n      <path clip-path=\"url(#pba04d44bbc)\" d=\"M 49.707969 335.454077 \r\nL 496.107969 335.454077 \r\n\" style=\"fill:none;stroke:#ffffff;stroke-linecap:round;\"/>\r\n     </g>\r\n     <g id=\"text_13\">\r\n      <!-- 0.0 -->\r\n      <g style=\"fill:#262626;\" transform=\"translate(24.917969 339.390874)scale(0.11 -0.11)\">\r\n       <use xlink:href=\"#ArialMT-30\"/>\r\n       <use x=\"55.615234\" xlink:href=\"#ArialMT-2e\"/>\r\n       <use x=\"83.398438\" xlink:href=\"#ArialMT-30\"/>\r\n      </g>\r\n     </g>\r\n    </g>\r\n    <g id=\"ytick_2\">\r\n     <g id=\"line2d_13\">\r\n      <path clip-path=\"url(#pba04d44bbc)\" d=\"M 49.707969 305.803168 \r\nL 496.107969 305.803168 \r\n\" style=\"fill:none;stroke:#ffffff;stroke-linecap:round;\"/>\r\n     </g>\r\n     <g id=\"text_14\">\r\n      <!-- 0.1 -->\r\n      <g style=\"fill:#262626;\" transform=\"translate(24.917969 309.739964)scale(0.11 -0.11)\">\r\n       <use xlink:href=\"#ArialMT-30\"/>\r\n       <use x=\"55.615234\" xlink:href=\"#ArialMT-2e\"/>\r\n       <use x=\"83.398438\" xlink:href=\"#ArialMT-31\"/>\r\n      </g>\r\n     </g>\r\n    </g>\r\n    <g id=\"ytick_3\">\r\n     <g id=\"line2d_14\">\r\n      <path clip-path=\"url(#pba04d44bbc)\" d=\"M 49.707969 276.152259 \r\nL 496.107969 276.152259 \r\n\" style=\"fill:none;stroke:#ffffff;stroke-linecap:round;\"/>\r\n     </g>\r\n     <g id=\"text_15\">\r\n      <!-- 0.2 -->\r\n      <g style=\"fill:#262626;\" transform=\"translate(24.917969 280.089055)scale(0.11 -0.11)\">\r\n       <use xlink:href=\"#ArialMT-30\"/>\r\n       <use x=\"55.615234\" xlink:href=\"#ArialMT-2e\"/>\r\n       <use x=\"83.398438\" xlink:href=\"#ArialMT-32\"/>\r\n      </g>\r\n     </g>\r\n    </g>\r\n    <g id=\"ytick_4\">\r\n     <g id=\"line2d_15\">\r\n      <path clip-path=\"url(#pba04d44bbc)\" d=\"M 49.707969 246.501349 \r\nL 496.107969 246.501349 \r\n\" style=\"fill:none;stroke:#ffffff;stroke-linecap:round;\"/>\r\n     </g>\r\n     <g id=\"text_16\">\r\n      <!-- 0.3 -->\r\n      <g style=\"fill:#262626;\" transform=\"translate(24.917969 250.438146)scale(0.11 -0.11)\">\r\n       <use xlink:href=\"#ArialMT-30\"/>\r\n       <use x=\"55.615234\" xlink:href=\"#ArialMT-2e\"/>\r\n       <use x=\"83.398438\" xlink:href=\"#ArialMT-33\"/>\r\n      </g>\r\n     </g>\r\n    </g>\r\n    <g id=\"ytick_5\">\r\n     <g id=\"line2d_16\">\r\n      <path clip-path=\"url(#pba04d44bbc)\" d=\"M 49.707969 216.85044 \r\nL 496.107969 216.85044 \r\n\" style=\"fill:none;stroke:#ffffff;stroke-linecap:round;\"/>\r\n     </g>\r\n     <g id=\"text_17\">\r\n      <!-- 0.4 -->\r\n      <g style=\"fill:#262626;\" transform=\"translate(24.917969 220.787237)scale(0.11 -0.11)\">\r\n       <use xlink:href=\"#ArialMT-30\"/>\r\n       <use x=\"55.615234\" xlink:href=\"#ArialMT-2e\"/>\r\n       <use x=\"83.398438\" xlink:href=\"#ArialMT-34\"/>\r\n      </g>\r\n     </g>\r\n    </g>\r\n    <g id=\"ytick_6\">\r\n     <g id=\"line2d_17\">\r\n      <path clip-path=\"url(#pba04d44bbc)\" d=\"M 49.707969 187.199531 \r\nL 496.107969 187.199531 \r\n\" style=\"fill:none;stroke:#ffffff;stroke-linecap:round;\"/>\r\n     </g>\r\n     <g id=\"text_18\">\r\n      <!-- 0.5 -->\r\n      <g style=\"fill:#262626;\" transform=\"translate(24.917969 191.136328)scale(0.11 -0.11)\">\r\n       <use xlink:href=\"#ArialMT-30\"/>\r\n       <use x=\"55.615234\" xlink:href=\"#ArialMT-2e\"/>\r\n       <use x=\"83.398438\" xlink:href=\"#ArialMT-35\"/>\r\n      </g>\r\n     </g>\r\n    </g>\r\n    <g id=\"ytick_7\">\r\n     <g id=\"line2d_18\">\r\n      <path clip-path=\"url(#pba04d44bbc)\" d=\"M 49.707969 157.548622 \r\nL 496.107969 157.548622 \r\n\" style=\"fill:none;stroke:#ffffff;stroke-linecap:round;\"/>\r\n     </g>\r\n     <g id=\"text_19\">\r\n      <!-- 0.6 -->\r\n      <g style=\"fill:#262626;\" transform=\"translate(24.917969 161.485419)scale(0.11 -0.11)\">\r\n       <use xlink:href=\"#ArialMT-30\"/>\r\n       <use x=\"55.615234\" xlink:href=\"#ArialMT-2e\"/>\r\n       <use x=\"83.398438\" xlink:href=\"#ArialMT-36\"/>\r\n      </g>\r\n     </g>\r\n    </g>\r\n    <g id=\"ytick_8\">\r\n     <g id=\"line2d_19\">\r\n      <path clip-path=\"url(#pba04d44bbc)\" d=\"M 49.707969 127.897713 \r\nL 496.107969 127.897713 \r\n\" style=\"fill:none;stroke:#ffffff;stroke-linecap:round;\"/>\r\n     </g>\r\n     <g id=\"text_20\">\r\n      <!-- 0.7 -->\r\n      <g style=\"fill:#262626;\" transform=\"translate(24.917969 131.83451)scale(0.11 -0.11)\">\r\n       <use xlink:href=\"#ArialMT-30\"/>\r\n       <use x=\"55.615234\" xlink:href=\"#ArialMT-2e\"/>\r\n       <use x=\"83.398438\" xlink:href=\"#ArialMT-37\"/>\r\n      </g>\r\n     </g>\r\n    </g>\r\n    <g id=\"ytick_9\">\r\n     <g id=\"line2d_20\">\r\n      <path clip-path=\"url(#pba04d44bbc)\" d=\"M 49.707969 98.246804 \r\nL 496.107969 98.246804 \r\n\" style=\"fill:none;stroke:#ffffff;stroke-linecap:round;\"/>\r\n     </g>\r\n     <g id=\"text_21\">\r\n      <!-- 0.8 -->\r\n      <g style=\"fill:#262626;\" transform=\"translate(24.917969 102.183601)scale(0.11 -0.11)\">\r\n       <use xlink:href=\"#ArialMT-30\"/>\r\n       <use x=\"55.615234\" xlink:href=\"#ArialMT-2e\"/>\r\n       <use x=\"83.398438\" xlink:href=\"#ArialMT-38\"/>\r\n      </g>\r\n     </g>\r\n    </g>\r\n    <g id=\"ytick_10\">\r\n     <g id=\"line2d_21\">\r\n      <path clip-path=\"url(#pba04d44bbc)\" d=\"M 49.707969 68.595895 \r\nL 496.107969 68.595895 \r\n\" style=\"fill:none;stroke:#ffffff;stroke-linecap:round;\"/>\r\n     </g>\r\n     <g id=\"text_22\">\r\n      <!-- 0.9 -->\r\n      <g style=\"fill:#262626;\" transform=\"translate(24.917969 72.532692)scale(0.11 -0.11)\">\r\n       <use xlink:href=\"#ArialMT-30\"/>\r\n       <use x=\"55.615234\" xlink:href=\"#ArialMT-2e\"/>\r\n       <use x=\"83.398438\" xlink:href=\"#ArialMT-39\"/>\r\n      </g>\r\n     </g>\r\n    </g>\r\n    <g id=\"ytick_11\">\r\n     <g id=\"line2d_22\">\r\n      <path clip-path=\"url(#pba04d44bbc)\" d=\"M 49.707969 38.944986 \r\nL 496.107969 38.944986 \r\n\" style=\"fill:none;stroke:#ffffff;stroke-linecap:round;\"/>\r\n     </g>\r\n     <g id=\"text_23\">\r\n      <!-- 1.0 -->\r\n      <g style=\"fill:#262626;\" transform=\"translate(24.917969 42.881783)scale(0.11 -0.11)\">\r\n       <use xlink:href=\"#ArialMT-31\"/>\r\n       <use x=\"55.615234\" xlink:href=\"#ArialMT-2e\"/>\r\n       <use x=\"83.398438\" xlink:href=\"#ArialMT-30\"/>\r\n      </g>\r\n     </g>\r\n    </g>\r\n    <g id=\"text_24\">\r\n     <!-- True Positive Rate -->\r\n     <g style=\"fill:#262626;\" transform=\"translate(17.936719 248.606953)rotate(-90)scale(0.15 -0.15)\">\r\n      <defs>\r\n       <path d=\"M 1659 0 \r\nL 1659 4041 \r\nL 150 4041 \r\nL 150 4581 \r\nL 3781 4581 \r\nL 3781 4041 \r\nL 2266 4041 \r\nL 2266 0 \r\nL 1659 0 \r\nz\r\n\" id=\"ArialMT-54\" transform=\"scale(0.015625)\"/>\r\n       <path d=\"M 416 0 \r\nL 416 3319 \r\nL 922 3319 \r\nL 922 2816 \r\nQ 1116 3169 1280 3281 \r\nQ 1444 3394 1641 3394 \r\nQ 1925 3394 2219 3213 \r\nL 2025 2691 \r\nQ 1819 2813 1613 2813 \r\nQ 1428 2813 1281 2702 \r\nQ 1134 2591 1072 2394 \r\nQ 978 2094 978 1738 \r\nL 978 0 \r\nL 416 0 \r\nz\r\n\" id=\"ArialMT-72\" transform=\"scale(0.015625)\"/>\r\n       <path d=\"M 2597 0 \r\nL 2597 488 \r\nQ 2209 -75 1544 -75 \r\nQ 1250 -75 995 37 \r\nQ 741 150 617 320 \r\nQ 494 491 444 738 \r\nQ 409 903 409 1263 \r\nL 409 3319 \r\nL 972 3319 \r\nL 972 1478 \r\nQ 972 1038 1006 884 \r\nQ 1059 663 1231 536 \r\nQ 1403 409 1656 409 \r\nQ 1909 409 2131 539 \r\nQ 2353 669 2445 892 \r\nQ 2538 1116 2538 1541 \r\nL 2538 3319 \r\nL 3100 3319 \r\nL 3100 0 \r\nL 2597 0 \r\nz\r\n\" id=\"ArialMT-75\" transform=\"scale(0.015625)\"/>\r\n      </defs>\r\n      <use xlink:href=\"#ArialMT-54\"/>\r\n      <use x=\"57.333984\" xlink:href=\"#ArialMT-72\"/>\r\n      <use x=\"90.634766\" xlink:href=\"#ArialMT-75\"/>\r\n      <use x=\"146.25\" xlink:href=\"#ArialMT-65\"/>\r\n      <use x=\"201.865234\" xlink:href=\"#ArialMT-20\"/>\r\n      <use x=\"229.648438\" xlink:href=\"#ArialMT-50\"/>\r\n      <use x=\"296.347656\" xlink:href=\"#ArialMT-6f\"/>\r\n      <use x=\"351.962891\" xlink:href=\"#ArialMT-73\"/>\r\n      <use x=\"401.962891\" xlink:href=\"#ArialMT-69\"/>\r\n      <use x=\"424.179688\" xlink:href=\"#ArialMT-74\"/>\r\n      <use x=\"451.962891\" xlink:href=\"#ArialMT-69\"/>\r\n      <use x=\"474.179688\" xlink:href=\"#ArialMT-76\"/>\r\n      <use x=\"524.179688\" xlink:href=\"#ArialMT-65\"/>\r\n      <use x=\"579.794922\" xlink:href=\"#ArialMT-20\"/>\r\n      <use x=\"607.578125\" xlink:href=\"#ArialMT-52\"/>\r\n      <use x=\"679.794922\" xlink:href=\"#ArialMT-61\"/>\r\n      <use x=\"735.410156\" xlink:href=\"#ArialMT-74\"/>\r\n      <use x=\"763.193359\" xlink:href=\"#ArialMT-65\"/>\r\n     </g>\r\n    </g>\r\n   </g>\r\n   <g id=\"line2d_23\">\r\n    <path clip-path=\"url(#pba04d44bbc)\" d=\"M 69.998878 335.454077 \r\nL 69.998878 332.084655 \r\nL 69.998878 113.072259 \r\nL 77.37739 113.072259 \r\nL 77.37739 82.747465 \r\nL 84.755903 82.747465 \r\nL 84.755903 76.008622 \r\nL 92.134415 76.008622 \r\nL 92.134415 72.639201 \r\nL 99.512927 72.639201 \r\nL 99.512927 62.530936 \r\nL 106.89144 62.530936 \r\nL 106.89144 55.792093 \r\nL 114.269952 55.792093 \r\nL 114.269952 52.422672 \r\nL 129.026977 52.422672 \r\nL 129.026977 42.314407 \r\nL 136.405489 42.314407 \r\nL 136.405489 38.944986 \r\nL 475.81706 38.944986 \r\n\" style=\"fill:none;stroke:#4c72b0;stroke-linecap:round;stroke-width:1.5;\"/>\r\n   </g>\r\n   <g id=\"line2d_24\">\r\n    <path clip-path=\"url(#pba04d44bbc)\" d=\"M 69.998878 335.454077 \r\nL 69.998878 332.084655 \r\nL 69.998878 325.345812 \r\nL 69.998878 311.868126 \r\nL 69.998878 301.759862 \r\nL 69.998878 295.021019 \r\nL 69.998878 284.912754 \r\nL 69.998878 278.173911 \r\nL 69.998878 274.80449 \r\nL 77.37739 274.80449 \r\nL 77.37739 261.326804 \r\nL 77.37739 257.957382 \r\nL 77.37739 234.371432 \r\nL 77.37739 231.002011 \r\nL 77.37739 224.263168 \r\nL 77.37739 210.785482 \r\nL 77.37739 204.046639 \r\nL 77.37739 193.938374 \r\nL 77.37739 190.568953 \r\nL 77.37739 180.460688 \r\nL 77.37739 150.135895 \r\nL 77.37739 143.397052 \r\nL 77.37739 96.225151 \r\nL 84.755903 96.225151 \r\nL 84.755903 65.900358 \r\nL 92.134415 65.900358 \r\nL 92.134415 55.792093 \r\nL 114.269952 55.792093 \r\nL 114.269952 45.683829 \r\nL 129.026977 45.683829 \r\nL 129.026977 42.314407 \r\nL 136.405489 42.314407 \r\nL 136.405489 38.944986 \r\nL 276.597225 38.944986 \r\nL 306.111275 38.944986 \r\nL 328.246812 38.944986 \r\nL 365.139374 38.944986 \r\nL 402.031936 38.944986 \r\nL 446.30301 38.944986 \r\nL 475.81706 38.944986 \r\n\" style=\"fill:none;stroke:#dd8452;stroke-linecap:round;stroke-width:1.5;\"/>\r\n   </g>\r\n   <g id=\"line2d_25\">\r\n    <path clip-path=\"url(#pba04d44bbc)\" d=\"M 69.998878 335.454077 \r\nL 99.512927 55.792093 \r\nL 475.81706 38.944986 \r\n\" style=\"fill:none;stroke:#55a868;stroke-linecap:round;stroke-width:1.5;\"/>\r\n   </g>\r\n   <g id=\"line2d_26\">\r\n    <path clip-path=\"url(#pba04d44bbc)\" d=\"M 69.998878 335.454077 \r\nL 69.998878 197.307796 \r\nL 77.37739 140.02763 \r\nL 77.37739 116.44168 \r\nL 77.37739 102.963994 \r\nL 84.755903 99.594573 \r\nL 84.755903 89.486308 \r\nL 84.755903 82.747465 \r\nL 84.755903 76.008622 \r\nL 84.755903 72.639201 \r\nL 84.755903 65.900358 \r\nL 92.134415 65.900358 \r\nL 92.134415 55.792093 \r\nL 99.512927 52.422672 \r\nL 99.512927 49.05325 \r\nL 121.648465 49.05325 \r\nL 121.648465 45.683829 \r\nL 129.026977 45.683829 \r\nL 129.026977 38.944986 \r\nL 143.784002 38.944986 \r\nL 158.541027 38.944986 \r\nL 165.919539 38.944986 \r\nL 188.055076 38.944986 \r\nL 195.433589 38.944986 \r\nL 210.190613 38.944986 \r\nL 217.569126 38.944986 \r\nL 239.704663 38.944986 \r\nL 247.083175 38.944986 \r\nL 269.218713 38.944986 \r\nL 475.81706 38.944986 \r\n\" style=\"fill:none;stroke:#c44e52;stroke-linecap:round;stroke-width:1.5;\"/>\r\n   </g>\r\n   <g id=\"line2d_27\">\r\n    <path clip-path=\"url(#pba04d44bbc)\" d=\"M 69.998878 335.454077 \r\nL 475.81706 38.944986 \r\n\" style=\"fill:none;stroke:#ffa500;stroke-dasharray:5.55,2.4;stroke-dashoffset:0;stroke-width:1.5;\"/>\r\n   </g>\r\n   <g id=\"patch_3\">\r\n    <path d=\"M 49.707969 350.279531 \r\nL 49.707969 24.119531 \r\n\" style=\"fill:none;stroke:#ffffff;stroke-linecap:square;stroke-linejoin:miter;stroke-width:1.25;\"/>\r\n   </g>\r\n   <g id=\"patch_4\">\r\n    <path d=\"M 496.107969 350.279531 \r\nL 496.107969 24.119531 \r\n\" style=\"fill:none;stroke:#ffffff;stroke-linecap:square;stroke-linejoin:miter;stroke-width:1.25;\"/>\r\n   </g>\r\n   <g id=\"patch_5\">\r\n    <path d=\"M 49.707969 350.279531 \r\nL 496.107969 350.279531 \r\n\" style=\"fill:none;stroke:#ffffff;stroke-linecap:square;stroke-linejoin:miter;stroke-width:1.25;\"/>\r\n   </g>\r\n   <g id=\"patch_6\">\r\n    <path d=\"M 49.707969 24.119531 \r\nL 496.107969 24.119531 \r\n\" style=\"fill:none;stroke:#ffffff;stroke-linecap:square;stroke-linejoin:miter;stroke-width:1.25;\"/>\r\n   </g>\r\n   <g id=\"text_25\">\r\n    <!-- ROC Curve Analysis -->\r\n    <g style=\"fill:#262626;\" transform=\"translate(200.250547 18.119531)scale(0.15 -0.15)\">\r\n     <defs>\r\n      <path d=\"M 469 0 \r\nL 469 4581 \r\nL 2416 4581 \r\nQ 3150 4581 3483 4457 \r\nQ 3816 4334 4016 4018 \r\nQ 4216 3703 4216 3297 \r\nQ 4216 2781 3912 2445 \r\nQ 3609 2109 3006 2022 \r\nQ 3306 1847 3501 1637 \r\nQ 3697 1428 4028 894 \r\nL 4588 0 \r\nL 3481 0 \r\nL 2813 997 \r\nQ 2456 1531 2325 1670 \r\nQ 2194 1809 2047 1861 \r\nQ 1900 1913 1581 1913 \r\nL 1394 1913 \r\nL 1394 0 \r\nL 469 0 \r\nz\r\nM 1394 2644 \r\nL 2078 2644 \r\nQ 2744 2644 2909 2700 \r\nQ 3075 2756 3169 2893 \r\nQ 3263 3031 3263 3238 \r\nQ 3263 3469 3139 3611 \r\nQ 3016 3753 2791 3791 \r\nQ 2678 3806 2116 3806 \r\nL 1394 3806 \r\nL 1394 2644 \r\nz\r\n\" id=\"Arial-BoldMT-52\" transform=\"scale(0.015625)\"/>\r\n      <path d=\"M 278 2263 \r\nQ 278 2963 488 3438 \r\nQ 644 3788 914 4066 \r\nQ 1184 4344 1506 4478 \r\nQ 1934 4659 2494 4659 \r\nQ 3506 4659 4114 4031 \r\nQ 4722 3403 4722 2284 \r\nQ 4722 1175 4119 548 \r\nQ 3516 -78 2506 -78 \r\nQ 1484 -78 881 545 \r\nQ 278 1169 278 2263 \r\nz\r\nM 1231 2294 \r\nQ 1231 1516 1590 1114 \r\nQ 1950 713 2503 713 \r\nQ 3056 713 3411 1111 \r\nQ 3766 1509 3766 2306 \r\nQ 3766 3094 3420 3481 \r\nQ 3075 3869 2503 3869 \r\nQ 1931 3869 1581 3476 \r\nQ 1231 3084 1231 2294 \r\nz\r\n\" id=\"Arial-BoldMT-4f\" transform=\"scale(0.015625)\"/>\r\n      <path d=\"M 3397 1684 \r\nL 4294 1400 \r\nQ 4088 650 3608 286 \r\nQ 3128 -78 2391 -78 \r\nQ 1478 -78 890 545 \r\nQ 303 1169 303 2250 \r\nQ 303 3394 893 4026 \r\nQ 1484 4659 2447 4659 \r\nQ 3288 4659 3813 4163 \r\nQ 4125 3869 4281 3319 \r\nL 3366 3100 \r\nQ 3284 3456 3026 3662 \r\nQ 2769 3869 2400 3869 \r\nQ 1891 3869 1573 3503 \r\nQ 1256 3138 1256 2319 \r\nQ 1256 1450 1568 1081 \r\nQ 1881 713 2381 713 \r\nQ 2750 713 3015 947 \r\nQ 3281 1181 3397 1684 \r\nz\r\n\" id=\"Arial-BoldMT-43\" transform=\"scale(0.015625)\"/>\r\n      <path id=\"Arial-BoldMT-20\" transform=\"scale(0.015625)\"/>\r\n      <path d=\"M 2644 0 \r\nL 2644 497 \r\nQ 2463 231 2167 78 \r\nQ 1872 -75 1544 -75 \r\nQ 1209 -75 943 72 \r\nQ 678 219 559 484 \r\nQ 441 750 441 1219 \r\nL 441 3319 \r\nL 1319 3319 \r\nL 1319 1794 \r\nQ 1319 1094 1367 936 \r\nQ 1416 778 1544 686 \r\nQ 1672 594 1869 594 \r\nQ 2094 594 2272 717 \r\nQ 2450 841 2515 1023 \r\nQ 2581 1206 2581 1919 \r\nL 2581 3319 \r\nL 3459 3319 \r\nL 3459 0 \r\nL 2644 0 \r\nz\r\n\" id=\"Arial-BoldMT-75\" transform=\"scale(0.015625)\"/>\r\n      <path d=\"M 1300 0 \r\nL 422 0 \r\nL 422 3319 \r\nL 1238 3319 \r\nL 1238 2847 \r\nQ 1447 3181 1614 3287 \r\nQ 1781 3394 1994 3394 \r\nQ 2294 3394 2572 3228 \r\nL 2300 2463 \r\nQ 2078 2606 1888 2606 \r\nQ 1703 2606 1575 2504 \r\nQ 1447 2403 1373 2137 \r\nQ 1300 1872 1300 1025 \r\nL 1300 0 \r\nz\r\n\" id=\"Arial-BoldMT-72\" transform=\"scale(0.015625)\"/>\r\n      <path d=\"M 1372 0 \r\nL 34 3319 \r\nL 956 3319 \r\nL 1581 1625 \r\nL 1763 1059 \r\nQ 1834 1275 1853 1344 \r\nQ 1897 1484 1947 1625 \r\nL 2578 3319 \r\nL 3481 3319 \r\nL 2163 0 \r\nL 1372 0 \r\nz\r\n\" id=\"Arial-BoldMT-76\" transform=\"scale(0.015625)\"/>\r\n      <path d=\"M 2381 1056 \r\nL 3256 909 \r\nQ 3088 428 2723 176 \r\nQ 2359 -75 1813 -75 \r\nQ 947 -75 531 491 \r\nQ 203 944 203 1634 \r\nQ 203 2459 634 2926 \r\nQ 1066 3394 1725 3394 \r\nQ 2466 3394 2894 2905 \r\nQ 3322 2416 3303 1406 \r\nL 1103 1406 \r\nQ 1113 1016 1316 798 \r\nQ 1519 581 1822 581 \r\nQ 2028 581 2168 693 \r\nQ 2309 806 2381 1056 \r\nz\r\nM 2431 1944 \r\nQ 2422 2325 2234 2523 \r\nQ 2047 2722 1778 2722 \r\nQ 1491 2722 1303 2513 \r\nQ 1116 2303 1119 1944 \r\nL 2431 1944 \r\nz\r\n\" id=\"Arial-BoldMT-65\" transform=\"scale(0.015625)\"/>\r\n      <path d=\"M 4597 0 \r\nL 3591 0 \r\nL 3191 1041 \r\nL 1359 1041 \r\nL 981 0 \r\nL 0 0 \r\nL 1784 4581 \r\nL 2763 4581 \r\nL 4597 0 \r\nz\r\nM 2894 1813 \r\nL 2263 3513 \r\nL 1644 1813 \r\nL 2894 1813 \r\nz\r\n\" id=\"Arial-BoldMT-41\" transform=\"scale(0.015625)\"/>\r\n      <path d=\"M 3478 0 \r\nL 2600 0 \r\nL 2600 1694 \r\nQ 2600 2231 2544 2389 \r\nQ 2488 2547 2361 2634 \r\nQ 2234 2722 2056 2722 \r\nQ 1828 2722 1647 2597 \r\nQ 1466 2472 1398 2265 \r\nQ 1331 2059 1331 1503 \r\nL 1331 0 \r\nL 453 0 \r\nL 453 3319 \r\nL 1269 3319 \r\nL 1269 2831 \r\nQ 1703 3394 2363 3394 \r\nQ 2653 3394 2893 3289 \r\nQ 3134 3184 3257 3021 \r\nQ 3381 2859 3429 2653 \r\nQ 3478 2447 3478 2063 \r\nL 3478 0 \r\nz\r\n\" id=\"Arial-BoldMT-6e\" transform=\"scale(0.015625)\"/>\r\n      <path d=\"M 1116 2306 \r\nL 319 2450 \r\nQ 453 2931 781 3162 \r\nQ 1109 3394 1756 3394 \r\nQ 2344 3394 2631 3255 \r\nQ 2919 3116 3036 2902 \r\nQ 3153 2688 3153 2116 \r\nL 3144 1091 \r\nQ 3144 653 3186 445 \r\nQ 3228 238 3344 0 \r\nL 2475 0 \r\nQ 2441 88 2391 259 \r\nQ 2369 338 2359 363 \r\nQ 2134 144 1878 34 \r\nQ 1622 -75 1331 -75 \r\nQ 819 -75 523 203 \r\nQ 228 481 228 906 \r\nQ 228 1188 362 1408 \r\nQ 497 1628 739 1745 \r\nQ 981 1863 1438 1950 \r\nQ 2053 2066 2291 2166 \r\nL 2291 2253 \r\nQ 2291 2506 2166 2614 \r\nQ 2041 2722 1694 2722 \r\nQ 1459 2722 1328 2630 \r\nQ 1197 2538 1116 2306 \r\nz\r\nM 2291 1594 \r\nQ 2122 1538 1756 1459 \r\nQ 1391 1381 1278 1306 \r\nQ 1106 1184 1106 997 \r\nQ 1106 813 1243 678 \r\nQ 1381 544 1594 544 \r\nQ 1831 544 2047 700 \r\nQ 2206 819 2256 991 \r\nQ 2291 1103 2291 1419 \r\nL 2291 1594 \r\nz\r\n\" id=\"Arial-BoldMT-61\" transform=\"scale(0.015625)\"/>\r\n      <path d=\"M 459 0 \r\nL 459 4581 \r\nL 1338 4581 \r\nL 1338 0 \r\nL 459 0 \r\nz\r\n\" id=\"Arial-BoldMT-6c\" transform=\"scale(0.015625)\"/>\r\n      <path d=\"M 44 3319 \r\nL 978 3319 \r\nL 1772 963 \r\nL 2547 3319 \r\nL 3456 3319 \r\nL 2284 125 \r\nL 2075 -453 \r\nQ 1959 -744 1854 -897 \r\nQ 1750 -1050 1614 -1145 \r\nQ 1478 -1241 1279 -1294 \r\nQ 1081 -1347 831 -1347 \r\nQ 578 -1347 334 -1294 \r\nL 256 -606 \r\nQ 463 -647 628 -647 \r\nQ 934 -647 1081 -467 \r\nQ 1228 -288 1306 -9 \r\nL 44 3319 \r\nz\r\n\" id=\"Arial-BoldMT-79\" transform=\"scale(0.015625)\"/>\r\n      <path d=\"M 150 947 \r\nL 1031 1081 \r\nQ 1088 825 1259 692 \r\nQ 1431 559 1741 559 \r\nQ 2081 559 2253 684 \r\nQ 2369 772 2369 919 \r\nQ 2369 1019 2306 1084 \r\nQ 2241 1147 2013 1200 \r\nQ 950 1434 666 1628 \r\nQ 272 1897 272 2375 \r\nQ 272 2806 612 3100 \r\nQ 953 3394 1669 3394 \r\nQ 2350 3394 2681 3172 \r\nQ 3013 2950 3138 2516 \r\nL 2309 2363 \r\nQ 2256 2556 2107 2659 \r\nQ 1959 2763 1684 2763 \r\nQ 1338 2763 1188 2666 \r\nQ 1088 2597 1088 2488 \r\nQ 1088 2394 1175 2328 \r\nQ 1294 2241 1995 2081 \r\nQ 2697 1922 2975 1691 \r\nQ 3250 1456 3250 1038 \r\nQ 3250 581 2869 253 \r\nQ 2488 -75 1741 -75 \r\nQ 1063 -75 667 200 \r\nQ 272 475 150 947 \r\nz\r\n\" id=\"Arial-BoldMT-73\" transform=\"scale(0.015625)\"/>\r\n      <path d=\"M 459 3769 \r\nL 459 4581 \r\nL 1338 4581 \r\nL 1338 3769 \r\nL 459 3769 \r\nz\r\nM 459 0 \r\nL 459 3319 \r\nL 1338 3319 \r\nL 1338 0 \r\nL 459 0 \r\nz\r\n\" id=\"Arial-BoldMT-69\" transform=\"scale(0.015625)\"/>\r\n     </defs>\r\n     <use xlink:href=\"#Arial-BoldMT-52\"/>\r\n     <use x=\"72.216797\" xlink:href=\"#Arial-BoldMT-4f\"/>\r\n     <use x=\"150\" xlink:href=\"#Arial-BoldMT-43\"/>\r\n     <use x=\"222.216797\" xlink:href=\"#Arial-BoldMT-20\"/>\r\n     <use x=\"250\" xlink:href=\"#Arial-BoldMT-43\"/>\r\n     <use x=\"322.216797\" xlink:href=\"#Arial-BoldMT-75\"/>\r\n     <use x=\"383.300781\" xlink:href=\"#Arial-BoldMT-72\"/>\r\n     <use x=\"422.216797\" xlink:href=\"#Arial-BoldMT-76\"/>\r\n     <use x=\"477.832031\" xlink:href=\"#Arial-BoldMT-65\"/>\r\n     <use x=\"533.447266\" xlink:href=\"#Arial-BoldMT-20\"/>\r\n     <use x=\"557.480469\" xlink:href=\"#Arial-BoldMT-41\"/>\r\n     <use x=\"629.697266\" xlink:href=\"#Arial-BoldMT-6e\"/>\r\n     <use x=\"690.78125\" xlink:href=\"#Arial-BoldMT-61\"/>\r\n     <use x=\"746.396484\" xlink:href=\"#Arial-BoldMT-6c\"/>\r\n     <use x=\"774.179688\" xlink:href=\"#Arial-BoldMT-79\"/>\r\n     <use x=\"829.794922\" xlink:href=\"#Arial-BoldMT-73\"/>\r\n     <use x=\"885.410156\" xlink:href=\"#Arial-BoldMT-69\"/>\r\n     <use x=\"913.193359\" xlink:href=\"#Arial-BoldMT-73\"/>\r\n    </g>\r\n   </g>\r\n   <g id=\"legend_1\">\r\n    <g id=\"patch_7\">\r\n     <path d=\"M 218.147656 343.779531 \r\nL 487.007969 343.779531 \r\nQ 489.607969 343.779531 489.607969 341.179531 \r\nL 489.607969 268.302344 \r\nQ 489.607969 265.702344 487.007969 265.702344 \r\nL 218.147656 265.702344 \r\nQ 215.547656 265.702344 215.547656 268.302344 \r\nL 215.547656 341.179531 \r\nQ 215.547656 343.779531 218.147656 343.779531 \r\nz\r\n\" style=\"fill:#eaeaf2;opacity:0.8;stroke:#cccccc;stroke-linejoin:miter;\"/>\r\n    </g>\r\n    <g id=\"line2d_28\">\r\n     <path d=\"M 220.747656 275.815938 \r\nL 246.747656 275.815938 \r\n\" style=\"fill:none;stroke:#4c72b0;stroke-linecap:round;stroke-width:1.5;\"/>\r\n    </g>\r\n    <g id=\"line2d_29\"/>\r\n    <g id=\"text_26\">\r\n     <!-- LogisticRegression, AUC=0.984 -->\r\n     <g style=\"fill:#262626;\" transform=\"translate(257.147656 280.365938)scale(0.13 -0.13)\">\r\n      <defs>\r\n       <path d=\"M 469 0 \r\nL 469 4581 \r\nL 1075 4581 \r\nL 1075 541 \r\nL 3331 541 \r\nL 3331 0 \r\nL 469 0 \r\nz\r\n\" id=\"ArialMT-4c\" transform=\"scale(0.015625)\"/>\r\n       <path d=\"M 319 -275 \r\nL 866 -356 \r\nQ 900 -609 1056 -725 \r\nQ 1266 -881 1628 -881 \r\nQ 2019 -881 2231 -725 \r\nQ 2444 -569 2519 -288 \r\nQ 2563 -116 2559 434 \r\nQ 2191 0 1641 0 \r\nQ 956 0 581 494 \r\nQ 206 988 206 1678 \r\nQ 206 2153 378 2554 \r\nQ 550 2956 876 3175 \r\nQ 1203 3394 1644 3394 \r\nQ 2231 3394 2613 2919 \r\nL 2613 3319 \r\nL 3131 3319 \r\nL 3131 450 \r\nQ 3131 -325 2973 -648 \r\nQ 2816 -972 2473 -1159 \r\nQ 2131 -1347 1631 -1347 \r\nQ 1038 -1347 672 -1080 \r\nQ 306 -813 319 -275 \r\nz\r\nM 784 1719 \r\nQ 784 1066 1043 766 \r\nQ 1303 466 1694 466 \r\nQ 2081 466 2343 764 \r\nQ 2606 1063 2606 1700 \r\nQ 2606 2309 2336 2618 \r\nQ 2066 2928 1684 2928 \r\nQ 1309 2928 1046 2623 \r\nQ 784 2319 784 1719 \r\nz\r\n\" id=\"ArialMT-67\" transform=\"scale(0.015625)\"/>\r\n       <path d=\"M 2588 1216 \r\nL 3141 1144 \r\nQ 3050 572 2676 248 \r\nQ 2303 -75 1759 -75 \r\nQ 1078 -75 664 370 \r\nQ 250 816 250 1647 \r\nQ 250 2184 428 2587 \r\nQ 606 2991 970 3192 \r\nQ 1334 3394 1763 3394 \r\nQ 2303 3394 2647 3120 \r\nQ 2991 2847 3088 2344 \r\nL 2541 2259 \r\nQ 2463 2594 2264 2762 \r\nQ 2066 2931 1784 2931 \r\nQ 1359 2931 1093 2626 \r\nQ 828 2322 828 1663 \r\nQ 828 994 1084 691 \r\nQ 1341 388 1753 388 \r\nQ 2084 388 2306 591 \r\nQ 2528 794 2588 1216 \r\nz\r\n\" id=\"ArialMT-63\" transform=\"scale(0.015625)\"/>\r\n       <path d=\"M 422 0 \r\nL 422 3319 \r\nL 928 3319 \r\nL 928 2847 \r\nQ 1294 3394 1984 3394 \r\nQ 2284 3394 2536 3286 \r\nQ 2788 3178 2913 3003 \r\nQ 3038 2828 3088 2588 \r\nQ 3119 2431 3119 2041 \r\nL 3119 0 \r\nL 2556 0 \r\nL 2556 2019 \r\nQ 2556 2363 2490 2533 \r\nQ 2425 2703 2258 2804 \r\nQ 2091 2906 1866 2906 \r\nQ 1506 2906 1245 2678 \r\nQ 984 2450 984 1813 \r\nL 984 0 \r\nL 422 0 \r\nz\r\n\" id=\"ArialMT-6e\" transform=\"scale(0.015625)\"/>\r\n       <path d=\"M 569 0 \r\nL 569 641 \r\nL 1209 641 \r\nL 1209 0 \r\nQ 1209 -353 1084 -570 \r\nQ 959 -788 688 -906 \r\nL 531 -666 \r\nQ 709 -588 793 -436 \r\nQ 878 -284 888 0 \r\nL 569 0 \r\nz\r\n\" id=\"ArialMT-2c\" transform=\"scale(0.015625)\"/>\r\n       <path d=\"M -9 0 \r\nL 1750 4581 \r\nL 2403 4581 \r\nL 4278 0 \r\nL 3588 0 \r\nL 3053 1388 \r\nL 1138 1388 \r\nL 634 0 \r\nL -9 0 \r\nz\r\nM 1313 1881 \r\nL 2866 1881 \r\nL 2388 3150 \r\nQ 2169 3728 2063 4100 \r\nQ 1975 3659 1816 3225 \r\nL 1313 1881 \r\nz\r\n\" id=\"ArialMT-41\" transform=\"scale(0.015625)\"/>\r\n       <path d=\"M 3500 4581 \r\nL 4106 4581 \r\nL 4106 1934 \r\nQ 4106 1244 3950 837 \r\nQ 3794 431 3386 176 \r\nQ 2978 -78 2316 -78 \r\nQ 1672 -78 1262 144 \r\nQ 853 366 678 786 \r\nQ 503 1206 503 1934 \r\nL 503 4581 \r\nL 1109 4581 \r\nL 1109 1938 \r\nQ 1109 1341 1220 1058 \r\nQ 1331 775 1601 622 \r\nQ 1872 469 2263 469 \r\nQ 2931 469 3215 772 \r\nQ 3500 1075 3500 1938 \r\nL 3500 4581 \r\nz\r\n\" id=\"ArialMT-55\" transform=\"scale(0.015625)\"/>\r\n       <path d=\"M 3763 1606 \r\nL 4369 1453 \r\nQ 4178 706 3683 314 \r\nQ 3188 -78 2472 -78 \r\nQ 1731 -78 1267 223 \r\nQ 803 525 561 1097 \r\nQ 319 1669 319 2325 \r\nQ 319 3041 592 3573 \r\nQ 866 4106 1370 4382 \r\nQ 1875 4659 2481 4659 \r\nQ 3169 4659 3637 4309 \r\nQ 4106 3959 4291 3325 \r\nL 3694 3184 \r\nQ 3534 3684 3231 3912 \r\nQ 2928 4141 2469 4141 \r\nQ 1941 4141 1586 3887 \r\nQ 1231 3634 1087 3207 \r\nQ 944 2781 944 2328 \r\nQ 944 1744 1114 1308 \r\nQ 1284 872 1643 656 \r\nQ 2003 441 2422 441 \r\nQ 2931 441 3284 734 \r\nQ 3638 1028 3763 1606 \r\nz\r\n\" id=\"ArialMT-43\" transform=\"scale(0.015625)\"/>\r\n       <path d=\"M 3381 2694 \r\nL 356 2694 \r\nL 356 3219 \r\nL 3381 3219 \r\nL 3381 2694 \r\nz\r\nM 3381 1303 \r\nL 356 1303 \r\nL 356 1828 \r\nL 3381 1828 \r\nL 3381 1303 \r\nz\r\n\" id=\"ArialMT-3d\" transform=\"scale(0.015625)\"/>\r\n      </defs>\r\n      <use xlink:href=\"#ArialMT-4c\"/>\r\n      <use x=\"55.615234\" xlink:href=\"#ArialMT-6f\"/>\r\n      <use x=\"111.230469\" xlink:href=\"#ArialMT-67\"/>\r\n      <use x=\"166.845703\" xlink:href=\"#ArialMT-69\"/>\r\n      <use x=\"189.0625\" xlink:href=\"#ArialMT-73\"/>\r\n      <use x=\"239.0625\" xlink:href=\"#ArialMT-74\"/>\r\n      <use x=\"266.845703\" xlink:href=\"#ArialMT-69\"/>\r\n      <use x=\"289.0625\" xlink:href=\"#ArialMT-63\"/>\r\n      <use x=\"339.0625\" xlink:href=\"#ArialMT-52\"/>\r\n      <use x=\"411.279297\" xlink:href=\"#ArialMT-65\"/>\r\n      <use x=\"466.894531\" xlink:href=\"#ArialMT-67\"/>\r\n      <use x=\"522.509766\" xlink:href=\"#ArialMT-72\"/>\r\n      <use x=\"555.810547\" xlink:href=\"#ArialMT-65\"/>\r\n      <use x=\"611.425781\" xlink:href=\"#ArialMT-73\"/>\r\n      <use x=\"661.425781\" xlink:href=\"#ArialMT-73\"/>\r\n      <use x=\"711.425781\" xlink:href=\"#ArialMT-69\"/>\r\n      <use x=\"733.642578\" xlink:href=\"#ArialMT-6f\"/>\r\n      <use x=\"789.257812\" xlink:href=\"#ArialMT-6e\"/>\r\n      <use x=\"844.873047\" xlink:href=\"#ArialMT-2c\"/>\r\n      <use x=\"872.65625\" xlink:href=\"#ArialMT-20\"/>\r\n      <use x=\"894.939453\" xlink:href=\"#ArialMT-41\"/>\r\n      <use x=\"961.638672\" xlink:href=\"#ArialMT-55\"/>\r\n      <use x=\"1033.855469\" xlink:href=\"#ArialMT-43\"/>\r\n      <use x=\"1106.072266\" xlink:href=\"#ArialMT-3d\"/>\r\n      <use x=\"1164.470703\" xlink:href=\"#ArialMT-30\"/>\r\n      <use x=\"1220.085938\" xlink:href=\"#ArialMT-2e\"/>\r\n      <use x=\"1247.869141\" xlink:href=\"#ArialMT-39\"/>\r\n      <use x=\"1303.484375\" xlink:href=\"#ArialMT-38\"/>\r\n      <use x=\"1359.099609\" xlink:href=\"#ArialMT-34\"/>\r\n     </g>\r\n    </g>\r\n    <g id=\"line2d_30\">\r\n     <path d=\"M 220.747656 294.515625 \r\nL 246.747656 294.515625 \r\n\" style=\"fill:none;stroke:#dd8452;stroke-linecap:round;stroke-width:1.5;\"/>\r\n    </g>\r\n    <g id=\"line2d_31\"/>\r\n    <g id=\"text_27\">\r\n     <!-- GradientBoostingClassifier, AUC=0.976 -->\r\n     <g style=\"fill:#262626;\" transform=\"translate(257.147656 299.065625)scale(0.13 -0.13)\">\r\n      <defs>\r\n       <path d=\"M 2638 1797 \r\nL 2638 2334 \r\nL 4578 2338 \r\nL 4578 638 \r\nQ 4131 281 3656 101 \r\nQ 3181 -78 2681 -78 \r\nQ 2006 -78 1454 211 \r\nQ 903 500 622 1047 \r\nQ 341 1594 341 2269 \r\nQ 341 2938 620 3517 \r\nQ 900 4097 1425 4378 \r\nQ 1950 4659 2634 4659 \r\nQ 3131 4659 3532 4498 \r\nQ 3934 4338 4162 4050 \r\nQ 4391 3763 4509 3300 \r\nL 3963 3150 \r\nQ 3859 3500 3706 3700 \r\nQ 3553 3900 3268 4020 \r\nQ 2984 4141 2638 4141 \r\nQ 2222 4141 1919 4014 \r\nQ 1616 3888 1430 3681 \r\nQ 1244 3475 1141 3228 \r\nQ 966 2803 966 2306 \r\nQ 966 1694 1177 1281 \r\nQ 1388 869 1791 669 \r\nQ 2194 469 2647 469 \r\nQ 3041 469 3416 620 \r\nQ 3791 772 3984 944 \r\nL 3984 1797 \r\nL 2638 1797 \r\nz\r\n\" id=\"ArialMT-47\" transform=\"scale(0.015625)\"/>\r\n       <path d=\"M 2575 0 \r\nL 2575 419 \r\nQ 2259 -75 1647 -75 \r\nQ 1250 -75 917 144 \r\nQ 584 363 401 755 \r\nQ 219 1147 219 1656 \r\nQ 219 2153 384 2558 \r\nQ 550 2963 881 3178 \r\nQ 1213 3394 1622 3394 \r\nQ 1922 3394 2156 3267 \r\nQ 2391 3141 2538 2938 \r\nL 2538 4581 \r\nL 3097 4581 \r\nL 3097 0 \r\nL 2575 0 \r\nz\r\nM 797 1656 \r\nQ 797 1019 1065 703 \r\nQ 1334 388 1700 388 \r\nQ 2069 388 2326 689 \r\nQ 2584 991 2584 1609 \r\nQ 2584 2291 2321 2609 \r\nQ 2059 2928 1675 2928 \r\nQ 1300 2928 1048 2622 \r\nQ 797 2316 797 1656 \r\nz\r\n\" id=\"ArialMT-64\" transform=\"scale(0.015625)\"/>\r\n       <path d=\"M 469 0 \r\nL 469 4581 \r\nL 2188 4581 \r\nQ 2713 4581 3030 4442 \r\nQ 3347 4303 3526 4014 \r\nQ 3706 3725 3706 3409 \r\nQ 3706 3116 3547 2856 \r\nQ 3388 2597 3066 2438 \r\nQ 3481 2316 3704 2022 \r\nQ 3928 1728 3928 1328 \r\nQ 3928 1006 3792 729 \r\nQ 3656 453 3456 303 \r\nQ 3256 153 2954 76 \r\nQ 2653 0 2216 0 \r\nL 469 0 \r\nz\r\nM 1075 2656 \r\nL 2066 2656 \r\nQ 2469 2656 2644 2709 \r\nQ 2875 2778 2992 2937 \r\nQ 3109 3097 3109 3338 \r\nQ 3109 3566 3000 3739 \r\nQ 2891 3913 2687 3977 \r\nQ 2484 4041 1991 4041 \r\nL 1075 4041 \r\nL 1075 2656 \r\nz\r\nM 1075 541 \r\nL 2216 541 \r\nQ 2509 541 2628 563 \r\nQ 2838 600 2978 687 \r\nQ 3119 775 3209 942 \r\nQ 3300 1109 3300 1328 \r\nQ 3300 1584 3169 1773 \r\nQ 3038 1963 2805 2039 \r\nQ 2572 2116 2134 2116 \r\nL 1075 2116 \r\nL 1075 541 \r\nz\r\n\" id=\"ArialMT-42\" transform=\"scale(0.015625)\"/>\r\n       <path d=\"M 556 0 \r\nL 556 2881 \r\nL 59 2881 \r\nL 59 3319 \r\nL 556 3319 \r\nL 556 3672 \r\nQ 556 4006 616 4169 \r\nQ 697 4388 901 4523 \r\nQ 1106 4659 1475 4659 \r\nQ 1713 4659 2000 4603 \r\nL 1916 4113 \r\nQ 1741 4144 1584 4144 \r\nQ 1328 4144 1222 4034 \r\nQ 1116 3925 1116 3625 \r\nL 1116 3319 \r\nL 1763 3319 \r\nL 1763 2881 \r\nL 1116 2881 \r\nL 1116 0 \r\nL 556 0 \r\nz\r\n\" id=\"ArialMT-66\" transform=\"scale(0.015625)\"/>\r\n      </defs>\r\n      <use xlink:href=\"#ArialMT-47\"/>\r\n      <use x=\"77.783203\" xlink:href=\"#ArialMT-72\"/>\r\n      <use x=\"111.083984\" xlink:href=\"#ArialMT-61\"/>\r\n      <use x=\"166.699219\" xlink:href=\"#ArialMT-64\"/>\r\n      <use x=\"222.314453\" xlink:href=\"#ArialMT-69\"/>\r\n      <use x=\"244.53125\" xlink:href=\"#ArialMT-65\"/>\r\n      <use x=\"300.146484\" xlink:href=\"#ArialMT-6e\"/>\r\n      <use x=\"355.761719\" xlink:href=\"#ArialMT-74\"/>\r\n      <use x=\"383.544922\" xlink:href=\"#ArialMT-42\"/>\r\n      <use x=\"450.244141\" xlink:href=\"#ArialMT-6f\"/>\r\n      <use x=\"505.859375\" xlink:href=\"#ArialMT-6f\"/>\r\n      <use x=\"561.474609\" xlink:href=\"#ArialMT-73\"/>\r\n      <use x=\"611.474609\" xlink:href=\"#ArialMT-74\"/>\r\n      <use x=\"639.257812\" xlink:href=\"#ArialMT-69\"/>\r\n      <use x=\"661.474609\" xlink:href=\"#ArialMT-6e\"/>\r\n      <use x=\"717.089844\" xlink:href=\"#ArialMT-67\"/>\r\n      <use x=\"772.705078\" xlink:href=\"#ArialMT-43\"/>\r\n      <use x=\"844.921875\" xlink:href=\"#ArialMT-6c\"/>\r\n      <use x=\"867.138672\" xlink:href=\"#ArialMT-61\"/>\r\n      <use x=\"922.753906\" xlink:href=\"#ArialMT-73\"/>\r\n      <use x=\"972.753906\" xlink:href=\"#ArialMT-73\"/>\r\n      <use x=\"1022.753906\" xlink:href=\"#ArialMT-69\"/>\r\n      <use x=\"1044.970703\" xlink:href=\"#ArialMT-66\"/>\r\n      <use x=\"1072.753906\" xlink:href=\"#ArialMT-69\"/>\r\n      <use x=\"1094.970703\" xlink:href=\"#ArialMT-65\"/>\r\n      <use x=\"1150.585938\" xlink:href=\"#ArialMT-72\"/>\r\n      <use x=\"1178.386719\" xlink:href=\"#ArialMT-2c\"/>\r\n      <use x=\"1206.169922\" xlink:href=\"#ArialMT-20\"/>\r\n      <use x=\"1228.453125\" xlink:href=\"#ArialMT-41\"/>\r\n      <use x=\"1295.152344\" xlink:href=\"#ArialMT-55\"/>\r\n      <use x=\"1367.369141\" xlink:href=\"#ArialMT-43\"/>\r\n      <use x=\"1439.585938\" xlink:href=\"#ArialMT-3d\"/>\r\n      <use x=\"1497.984375\" xlink:href=\"#ArialMT-30\"/>\r\n      <use x=\"1553.599609\" xlink:href=\"#ArialMT-2e\"/>\r\n      <use x=\"1581.382812\" xlink:href=\"#ArialMT-39\"/>\r\n      <use x=\"1636.998047\" xlink:href=\"#ArialMT-37\"/>\r\n      <use x=\"1692.613281\" xlink:href=\"#ArialMT-36\"/>\r\n     </g>\r\n    </g>\r\n    <g id=\"line2d_32\">\r\n     <path d=\"M 220.747656 313.056875 \r\nL 246.747656 313.056875 \r\n\" style=\"fill:none;stroke:#55a868;stroke-linecap:round;stroke-width:1.5;\"/>\r\n    </g>\r\n    <g id=\"line2d_33\"/>\r\n    <g id=\"text_28\">\r\n     <!-- DecisionTreeClassifier, AUC=0.935 -->\r\n     <g style=\"fill:#262626;\" transform=\"translate(257.147656 317.606875)scale(0.13 -0.13)\">\r\n      <defs>\r\n       <path d=\"M 494 0 \r\nL 494 4581 \r\nL 2072 4581 \r\nQ 2606 4581 2888 4516 \r\nQ 3281 4425 3559 4188 \r\nQ 3922 3881 4101 3404 \r\nQ 4281 2928 4281 2316 \r\nQ 4281 1794 4159 1391 \r\nQ 4038 988 3847 723 \r\nQ 3656 459 3429 307 \r\nQ 3203 156 2883 78 \r\nQ 2563 0 2147 0 \r\nL 494 0 \r\nz\r\nM 1100 541 \r\nL 2078 541 \r\nQ 2531 541 2789 625 \r\nQ 3047 709 3200 863 \r\nQ 3416 1078 3536 1442 \r\nQ 3656 1806 3656 2325 \r\nQ 3656 3044 3420 3430 \r\nQ 3184 3816 2847 3947 \r\nQ 2603 4041 2063 4041 \r\nL 1100 4041 \r\nL 1100 541 \r\nz\r\n\" id=\"ArialMT-44\" transform=\"scale(0.015625)\"/>\r\n      </defs>\r\n      <use xlink:href=\"#ArialMT-44\"/>\r\n      <use x=\"72.216797\" xlink:href=\"#ArialMT-65\"/>\r\n      <use x=\"127.832031\" xlink:href=\"#ArialMT-63\"/>\r\n      <use x=\"177.832031\" xlink:href=\"#ArialMT-69\"/>\r\n      <use x=\"200.048828\" xlink:href=\"#ArialMT-73\"/>\r\n      <use x=\"250.048828\" xlink:href=\"#ArialMT-69\"/>\r\n      <use x=\"272.265625\" xlink:href=\"#ArialMT-6f\"/>\r\n      <use x=\"327.880859\" xlink:href=\"#ArialMT-6e\"/>\r\n      <use x=\"383.496094\" xlink:href=\"#ArialMT-54\"/>\r\n      <use x=\"440.830078\" xlink:href=\"#ArialMT-72\"/>\r\n      <use x=\"474.130859\" xlink:href=\"#ArialMT-65\"/>\r\n      <use x=\"529.746094\" xlink:href=\"#ArialMT-65\"/>\r\n      <use x=\"585.361328\" xlink:href=\"#ArialMT-43\"/>\r\n      <use x=\"657.578125\" xlink:href=\"#ArialMT-6c\"/>\r\n      <use x=\"679.794922\" xlink:href=\"#ArialMT-61\"/>\r\n      <use x=\"735.410156\" xlink:href=\"#ArialMT-73\"/>\r\n      <use x=\"785.410156\" xlink:href=\"#ArialMT-73\"/>\r\n      <use x=\"835.410156\" xlink:href=\"#ArialMT-69\"/>\r\n      <use x=\"857.626953\" xlink:href=\"#ArialMT-66\"/>\r\n      <use x=\"885.410156\" xlink:href=\"#ArialMT-69\"/>\r\n      <use x=\"907.626953\" xlink:href=\"#ArialMT-65\"/>\r\n      <use x=\"963.242188\" xlink:href=\"#ArialMT-72\"/>\r\n      <use x=\"991.042969\" xlink:href=\"#ArialMT-2c\"/>\r\n      <use x=\"1018.826172\" xlink:href=\"#ArialMT-20\"/>\r\n      <use x=\"1041.109375\" xlink:href=\"#ArialMT-41\"/>\r\n      <use x=\"1107.808594\" xlink:href=\"#ArialMT-55\"/>\r\n      <use x=\"1180.025391\" xlink:href=\"#ArialMT-43\"/>\r\n      <use x=\"1252.242188\" xlink:href=\"#ArialMT-3d\"/>\r\n      <use x=\"1310.640625\" xlink:href=\"#ArialMT-30\"/>\r\n      <use x=\"1366.255859\" xlink:href=\"#ArialMT-2e\"/>\r\n      <use x=\"1394.039062\" xlink:href=\"#ArialMT-39\"/>\r\n      <use x=\"1449.654297\" xlink:href=\"#ArialMT-33\"/>\r\n      <use x=\"1505.269531\" xlink:href=\"#ArialMT-35\"/>\r\n     </g>\r\n    </g>\r\n    <g id=\"line2d_34\">\r\n     <path d=\"M 220.747656 331.445781 \r\nL 246.747656 331.445781 \r\n\" style=\"fill:none;stroke:#c44e52;stroke-linecap:round;stroke-width:1.5;\"/>\r\n    </g>\r\n    <g id=\"line2d_35\"/>\r\n    <g id=\"text_29\">\r\n     <!-- RandomForestClassifier, AUC=0.983 -->\r\n     <g style=\"fill:#262626;\" transform=\"translate(257.147656 335.995781)scale(0.13 -0.13)\">\r\n      <defs>\r\n       <path d=\"M 422 0 \r\nL 422 3319 \r\nL 925 3319 \r\nL 925 2853 \r\nQ 1081 3097 1340 3245 \r\nQ 1600 3394 1931 3394 \r\nQ 2300 3394 2536 3241 \r\nQ 2772 3088 2869 2813 \r\nQ 3263 3394 3894 3394 \r\nQ 4388 3394 4653 3120 \r\nQ 4919 2847 4919 2278 \r\nL 4919 0 \r\nL 4359 0 \r\nL 4359 2091 \r\nQ 4359 2428 4304 2576 \r\nQ 4250 2725 4106 2815 \r\nQ 3963 2906 3769 2906 \r\nQ 3419 2906 3187 2673 \r\nQ 2956 2441 2956 1928 \r\nL 2956 0 \r\nL 2394 0 \r\nL 2394 2156 \r\nQ 2394 2531 2256 2718 \r\nQ 2119 2906 1806 2906 \r\nQ 1569 2906 1367 2781 \r\nQ 1166 2656 1075 2415 \r\nQ 984 2175 984 1722 \r\nL 984 0 \r\nL 422 0 \r\nz\r\n\" id=\"ArialMT-6d\" transform=\"scale(0.015625)\"/>\r\n      </defs>\r\n      <use xlink:href=\"#ArialMT-52\"/>\r\n      <use x=\"72.216797\" xlink:href=\"#ArialMT-61\"/>\r\n      <use x=\"127.832031\" xlink:href=\"#ArialMT-6e\"/>\r\n      <use x=\"183.447266\" xlink:href=\"#ArialMT-64\"/>\r\n      <use x=\"239.0625\" xlink:href=\"#ArialMT-6f\"/>\r\n      <use x=\"294.677734\" xlink:href=\"#ArialMT-6d\"/>\r\n      <use x=\"377.978516\" xlink:href=\"#ArialMT-46\"/>\r\n      <use x=\"439.0625\" xlink:href=\"#ArialMT-6f\"/>\r\n      <use x=\"494.677734\" xlink:href=\"#ArialMT-72\"/>\r\n      <use x=\"527.978516\" xlink:href=\"#ArialMT-65\"/>\r\n      <use x=\"583.59375\" xlink:href=\"#ArialMT-73\"/>\r\n      <use x=\"633.59375\" xlink:href=\"#ArialMT-74\"/>\r\n      <use x=\"661.376953\" xlink:href=\"#ArialMT-43\"/>\r\n      <use x=\"733.59375\" xlink:href=\"#ArialMT-6c\"/>\r\n      <use x=\"755.810547\" xlink:href=\"#ArialMT-61\"/>\r\n      <use x=\"811.425781\" xlink:href=\"#ArialMT-73\"/>\r\n      <use x=\"861.425781\" xlink:href=\"#ArialMT-73\"/>\r\n      <use x=\"911.425781\" xlink:href=\"#ArialMT-69\"/>\r\n      <use x=\"933.642578\" xlink:href=\"#ArialMT-66\"/>\r\n      <use x=\"961.425781\" xlink:href=\"#ArialMT-69\"/>\r\n      <use x=\"983.642578\" xlink:href=\"#ArialMT-65\"/>\r\n      <use x=\"1039.257812\" xlink:href=\"#ArialMT-72\"/>\r\n      <use x=\"1067.058594\" xlink:href=\"#ArialMT-2c\"/>\r\n      <use x=\"1094.841797\" xlink:href=\"#ArialMT-20\"/>\r\n      <use x=\"1117.125\" xlink:href=\"#ArialMT-41\"/>\r\n      <use x=\"1183.824219\" xlink:href=\"#ArialMT-55\"/>\r\n      <use x=\"1256.041016\" xlink:href=\"#ArialMT-43\"/>\r\n      <use x=\"1328.257812\" xlink:href=\"#ArialMT-3d\"/>\r\n      <use x=\"1386.65625\" xlink:href=\"#ArialMT-30\"/>\r\n      <use x=\"1442.271484\" xlink:href=\"#ArialMT-2e\"/>\r\n      <use x=\"1470.054688\" xlink:href=\"#ArialMT-39\"/>\r\n      <use x=\"1525.669922\" xlink:href=\"#ArialMT-38\"/>\r\n      <use x=\"1581.285156\" xlink:href=\"#ArialMT-33\"/>\r\n     </g>\r\n    </g>\r\n   </g>\r\n  </g>\r\n </g>\r\n <defs>\r\n  <clipPath id=\"pba04d44bbc\">\r\n   <rect height=\"326.16\" width=\"446.4\" x=\"49.707969\" y=\"24.119531\"/>\r\n  </clipPath>\r\n </defs>\r\n</svg>\r\n",
      "image/png": "[encoded data removed]"
     },
     "metadata": {}
    }
   ],
   "source": [
    "fig = plt.figure(figsize=(8,6))\n",
    "\n",
    "for i in result_table.index:\n",
    "    plt.plot(result_table.loc[i]['fpr'], \n",
    "             result_table.loc[i]['tpr'], \n",
    "             label=\"{}, AUC={:.3f}\".format(i, result_table.loc[i]['auc']))\n",
    "    \n",
    "plt.plot([0,1], [0,1], color='orange', linestyle='--')\n",
    "\n",
    "plt.xticks(np.arange(0.0, 1.1, step=0.1))\n",
    "plt.xlabel(\"False Positive Rate\", fontsize=15)\n",
    "\n",
    "plt.yticks(np.arange(0.0, 1.1, step=0.1))\n",
    "plt.ylabel(\"True Positive Rate\", fontsize=15)\n",
    "\n",
    "plt.title('ROC Curve Analysis', fontweight='bold', fontsize=15)\n",
    "plt.legend(prop={'size':13}, loc='lower right')\n",
    "\n",
    "plt.show()"
   ]
  },
  {
   "cell_type": "code",
   "execution_count": null,
   "metadata": {},
   "outputs": [],
   "source": []
  }
 ],
 "metadata": {
  "kernelspec": {
   "name": "python3",
   "display_name": "Python 3.9.5 64-bit"
  },
  "language_info": {
   "codemirror_mode": {
    "name": "ipython",
    "version": 3
   },
   "file_extension": ".py",
   "mimetype": "text/x-python",
   "name": "python",
   "nbconvert_exporter": "python",
   "pygments_lexer": "ipython3",
   "version": "3.9.5"
  },
  "interpreter": {
   "hash": "d62006d1f3422635846181a997a61e8ec3049f797e5d7dfe0cd1bb84092b7c19"
  }
 },
 "nbformat": 4,
 "nbformat_minor": 4
}